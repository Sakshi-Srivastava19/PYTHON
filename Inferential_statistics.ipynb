{
  "nbformat": 4,
  "nbformat_minor": 0,
  "metadata": {
    "colab": {
      "provenance": []
    },
    "kernelspec": {
      "name": "python3",
      "display_name": "Python 3"
    },
    "language_info": {
      "name": "python"
    }
  },
  "cells": [
    {
      "cell_type": "markdown",
      "source": [
        "# **Inferential statistics**:\n",
        "\n",
        "inferential stats help us make conclusions about a large group (population) using a data from a small  group(sample)\n",
        "\n",
        "\n",
        "\n",
        "Population : full data\n",
        "\n",
        "\n",
        "Sample :  is small part of your full data\n",
        "\n"
      ],
      "metadata": {
        "id": "9R86IecCaVJN"
      }
    },
    {
      "cell_type": "markdown",
      "source": [
        "# **Types of sampling**\n",
        "\n",
        "\n",
        "1.  **Random sampling**: every member of the population has an equal chance of being selected\n",
        "\n",
        "2. **systematic sampling**: a sample is chosen by selecting every nth member of the population after a random starting point\n",
        "\n",
        "3. **stratified sampling**:  the population is divided into subgroups and a random sample is taken from each subgroup\n",
        "\n",
        "4. **Cluster sampling**:  the popluation is divided into clusters , usually bases on geography or natural groupings  and then the whole cluster is randomly selected for the sample"
      ],
      "metadata": {
        "id": "yTwjkg4za9ml"
      }
    },
    {
      "cell_type": "markdown",
      "source": [
        "# **Hypothesis testing**\n",
        "\n",
        "hypothesis testing is a statistical method to make decision or draw conclusions about a popluation based on sample .\n",
        "it help us test assumption and determine if our result are due to chance or an real effect\n",
        "\n",
        "example:  we have check whether that ad will increase the sale or not\n",
        "\n",
        "1. null hypothesis: there is no effect or difference\n",
        "\n",
        "2. alternative hypothesis: there is an effect or difference (ad will increases our sale)"
      ],
      "metadata": {
        "id": "Yc8FCJEZdtzH"
      }
    },
    {
      "cell_type": "markdown",
      "source": [
        "**p value**:\n",
        "\n",
        "\n",
        "- threshold value = 0.05\n",
        "\n",
        "small p -value ( p< 0.05) - strong evidence against null hyothesis ( rejecting)\n",
        "\n",
        "**large p-value **\n",
        "( p>0.05) - not enough evidence against null hypothesis (accepting - null hypothesis )\n"
      ],
      "metadata": {
        "id": "N1wfYhyFfD9v"
      }
    },
    {
      "cell_type": "markdown",
      "source": [
        "**T- test**:\n",
        "\n",
        "A T-test is used to compare mean(average) and check if the difference is signicant( have some real effect) or just happen by chance(there is no signicant effect)\n",
        "\n",
        "\n",
        "# one samplet T -test:\n",
        "comparing the mean of single sample to a known popluation mean\n",
        "check if the sample is significant from the popluation\n",
        "\n",
        "\n",
        "\n",
        "# real life example\n",
        "a fitness trainer claims that average weight  loss for a new diet is 5 kg .. we take a sample of 20 people and chcek if their wieght loss is significant different from 5kg\n",
        "\n",
        "\n",
        "\n",
        "# hypothesis:\n",
        "Ho null hypothesis :  the  average weight loss is 5kg\n",
        "\n",
        "alternative hypothesis : the average weight loss is not 5kg\n",
        "\n"
      ],
      "metadata": {
        "id": "Isc0Iq_4f-IH"
      }
    },
    {
      "cell_type": "code",
      "source": [
        "import scipy.stats as stats\n",
        "import numpy as np\n",
        "\n",
        "\n",
        "# sample data : weight loss in kg for 20 people\n",
        "\n",
        "sample_data = [4.8, 5.2 , 6.0, 4.5, 5.3, 5.1 , 6.2, 4.9, 5.5 , 5.0,5.7, 4.6, 5.8,\n",
        "               4.3,5.6, 4.7,5.4,5.1,5.9,4.9]\n",
        "\n",
        "# known popluation mean\n",
        "pop_mean = 5\n",
        "# perform one sample t-test\n",
        "\n",
        "t_stats, p_value = stats.ttest_1samp(sample_data, pop_mean)\n",
        "\n",
        "print(f\"t-statistics: {t_stats} , {p_value}\" )\n",
        "\n",
        "# decision based on p-value\n",
        "alpha = 0.05\n",
        "if p_value < alpha:\n",
        "  print(\"reject the null hypothesis\")\n",
        "else:\n",
        "  print(\"accepting the null hypothesis\")"
      ],
      "metadata": {
        "colab": {
          "base_uri": "https://localhost:8080/"
        },
        "id": "Ngb9Z0Q7a87a",
        "outputId": "a82b9916-eab1-4073-eed0-14f387be6539"
      },
      "execution_count": null,
      "outputs": [
        {
          "output_type": "stream",
          "name": "stdout",
          "text": [
            "t-statistics: 1.8984771414674686 , 0.07292925028957731\n",
            "accepting the null hypothesis\n"
          ]
        }
      ]
    },
    {
      "cell_type": "code",
      "execution_count": null,
      "metadata": {
        "id": "2qFBv_64W0UD"
      },
      "outputs": [],
      "source": [
        "#  two sample t-test(independent t-test)\n",
        "\n",
        "\n",
        "\"\"\" comparing the mean of two different group to check if they are signficantly different\"\"\"\n",
        "\n",
        "\"\"\" used when the two group are not related\"\"\"\n",
        "\n",
        "\"scnerio: a school wants to compare the maths score of boys vs girs to check if they are diff or not\""
      ]
    },
    {
      "cell_type": "code",
      "source": [
        "# hypthoesis:\n",
        "\n",
        "#null hypothesis: there is no difference in math scores between boys and girls\n",
        "\n",
        "# alternative hypothesis:  there is diffrence in math score\n"
      ],
      "metadata": {
        "id": "vtRgi8ZspJ9K"
      },
      "execution_count": null,
      "outputs": []
    },
    {
      "cell_type": "code",
      "source": [
        "# sample data\n",
        "boys_score = [78 , 85, 88 , 92,  75, 79 , 83, 89 , 91, 84]\n",
        "girls_score= [80, 86, 90, 93, 77 , 82, 85, 87, 92, 88, 90]\n",
        "\n",
        "# perform independent two-sample t-test\n",
        "t_stat, p_value =stats.ttest_ind(boys_score, girls_score)\n",
        "print(f\"two sample t-stats :t_stats{ t_stat}  p_value{p_value}\")\n",
        "\n",
        "\n",
        "# decision based on p_value\n",
        "\n",
        "if p_value <alpha:\n",
        "  print(\" reject null hypothesis , significant differnec in maths score between boys and girls\")\n",
        "\n",
        "else:\n",
        "  print(\"accepting the null hypothesis , no significant differnce in score between boys and  girls\")\n",
        "\n",
        "  # conclusion:\n",
        "\n",
        "   # there is no significant difference in math score between boys and girls\n"
      ],
      "metadata": {
        "colab": {
          "base_uri": "https://localhost:8080/"
        },
        "id": "fpymhMz0pYeQ",
        "outputId": "cdf7dc4f-b6a5-4404-c409-41424d2cbb88"
      },
      "execution_count": null,
      "outputs": [
        {
          "output_type": "stream",
          "name": "stdout",
          "text": [
            "two sample t-stats :t_stats-0.8345843939525728  p_value0.4143226593653825\n",
            "accepting the null hypothesis , no significant differnce in score between boys and  girls\n"
          ]
        }
      ]
    },
    {
      "cell_type": "code",
      "source": [
        "# 2 sample t test :\n",
        " #when you want to compare two independent groups\n",
        " # data should be normally distributes\n",
        " # sample size would be larger enough to draw conclusion"
      ],
      "metadata": {
        "id": "IagcA8mBsprk"
      },
      "execution_count": null,
      "outputs": []
    },
    {
      "cell_type": "markdown",
      "source": [
        "# **z-test**:  \n",
        "a z-test is a statistical test used to check whether two popluation mean are different when the sample size is greather than 30\n",
        "and the popluation standard deviation is known\n",
        "it is used when the data follows a normal distribution\n",
        "\n",
        "\n",
        "# when is z-test used ⁉\n",
        "when the sample size is large(n >30)\n",
        "when the population standard deviation\n",
        "to compare a sample mean with popluation mean or two sample means\n",
        "\n",
        "\n",
        "\n",
        "# example:\n",
        " a company claims that its battery lasts 400 hours on an average .\n",
        "  a consumer group tests 50 batteries and find the average lifespan is 390 hours\n",
        "   with a known popluation stand deviation of 20 hours\n",
        "   they want to check if the claim is true or not\n",
        "\n",
        "   z-test help in deciding whether the diff( 400 - 390) hours is happen due to chance or it is an real effect\n",
        "\n",
        "\n",
        "\n",
        "\n",
        "\n"
      ],
      "metadata": {
        "id": "1rWs-e1utQs3"
      }
    },
    {
      "cell_type": "code",
      "source": [
        "import statsmodels.stats.weightstats  as weightstats\n",
        "\n",
        "# sample data( battery life in hours)\n",
        "sample_data = [390,  395 ,  400 , 392, 388 ,  393, 391, 387, 396]\n",
        "\n",
        "# poplutaion mean and standard dev\n",
        "\n",
        "population_mean =400\n",
        "pop_std  = 20\n",
        "# perform z-test\n",
        "\n",
        "z_test , p_value=weightstats.ztest(sample_data , value=population_mean)\n",
        "\n",
        "print(f\"z -test value {z_test} and p value is {p_value: 4f}\")\n",
        "alpha = 0.05\n",
        "if p_value < alpha:\n",
        "  print(\" reject null hypothesis \")\n",
        "\n",
        "else:\n",
        "  print(\"accepting the null hypothesiss\")\n",
        "\n",
        "  # we are reject the null  hypothesis and  accepting the alternative\n",
        "     # the sample is significantly different from the company claims of 400 hours\n",
        "     # company claim is incorrect"
      ],
      "metadata": {
        "colab": {
          "base_uri": "https://localhost:8080/"
        },
        "id": "TGoTlw4qtPwj",
        "outputId": "6a225929-1f88-4c6e-f441-0eb24ef248bb"
      },
      "execution_count": null,
      "outputs": [
        {
          "output_type": "stream",
          "name": "stdout",
          "text": [
            "z -test value -5.533761519643876 and p value is  0.000000\n",
            " reject null hypothesis \n"
          ]
        }
      ]
    },
    {
      "cell_type": "code",
      "source": [
        "\"\"\"\"difference between t -test and z-test\n",
        "\n",
        "1. sample size  larger > 30 (z test)  ,, small sample size\n",
        "\n",
        "2. population std dev already known is z-test ,not in t-test\n",
        "\n",
        "3. z test - normal ditribution  , t-test  -  approx to normal distribution\n",
        "\n",
        "\n",
        "4.  comparing mean od larger sampls , t-test - comparing the mean of smaller samples\"\"\""
      ],
      "metadata": {
        "id": "EfqUjXpByaYz"
      },
      "execution_count": null,
      "outputs": []
    },
    {
      "cell_type": "code",
      "source": [],
      "metadata": {
        "id": "VEI3noWEtZPW"
      },
      "execution_count": null,
      "outputs": []
    }
  ]
}