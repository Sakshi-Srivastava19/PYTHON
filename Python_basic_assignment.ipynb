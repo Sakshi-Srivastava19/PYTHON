{
 "cells": [
  {
   "cell_type": "markdown",
   "id": "0d8eff39-fe0a-4bf8-8046-665689a3ee62",
   "metadata": {},
   "source": [
    "# 1.Problem Statement:\n",
    "You work in XYZ Corporation as a Data Analyst. Your company has told you to\n",
    "work with the if-else condition.\n",
    "Tasks To Be Performed:\n",
    "1. Input the values of a and b as 10 and 20 respectively. Now check if a is\n",
    "greater or b is greater using if condition. Think about all the edge cases,\n",
    "and print the statements accordingly"
   ]
  },
  {
   "cell_type": "code",
   "execution_count": 2,
   "id": "ffa7dafe-4bd2-4fbe-9906-e6176e51ad4c",
   "metadata": {},
   "outputs": [
    {
     "name": "stdout",
     "output_type": "stream",
     "text": [
      "20 is greater than 10\n"
     ]
    }
   ],
   "source": [
    "a,b=10,20\n",
    "if(a>b):\n",
    "    print(a,\"is greater than\",b)\n",
    "elif b > a:\n",
    "    print(b,\"is greater than\",a)\n",
    "else:\n",
    "    print(\"a and b are equal\") "
   ]
  },
  {
   "cell_type": "markdown",
   "id": "b8d85b2e-4a77-4518-826e-cb131fca45f9",
   "metadata": {},
   "source": [
    "# 2.Problem Statement:\n",
    "You work in XYZ Corporation as a Data Analyst. Your company has told you to\n",
    "work with the if-else condition.\n",
    "Tasks To Be Performed:\n",
    "1. Take three user inputs and print the greatest number from those inputs\n",
    "using if-else condition. Edge cases, if any, should also be handled "
   ]
  },
  {
   "cell_type": "markdown",
   "id": "d7226bdd-0d18-488a-bea6-5b80c71d6ada",
   "metadata": {},
   "source": [
    "##### a=int(input(\"Enter first number\"))\n",
    "b=int(input(\"Enter second number\"))\n",
    "c=int(input(\"Enter third number\"))\n",
    "if(a>b and a>c):\n",
    "     print(a,\"is greater\")\n",
    "elif(b>a and b>c):\n",
    "     print(b,\"is greater\")\n",
    "elif(c>a and c>b):\n",
    "     print(c,\"is greater\")\n",
    "else:\n",
    "     print(\"all are equal\")"
   ]
  },
  {
   "cell_type": "markdown",
   "id": "f22c3fab-333b-4ca4-8ef3-bcb0bf356460",
   "metadata": {},
   "source": [
    "# 3.Problem Statement:\n",
    "You work in XYZ Corporation as a Data Analyst. Your company has told you to\n",
    "work with the looping statements.\n",
    "Tasks To Be Performed:\n",
    "1. Print the numbers from 1 to 10 using while loop"
   ]
  },
  {
   "cell_type": "code",
   "execution_count": 6,
   "id": "96e159c5-da0e-4a7b-aee1-b7720ea0d38a",
   "metadata": {},
   "outputs": [
    {
     "name": "stdout",
     "output_type": "stream",
     "text": [
      "1 2 3 4 5 6 7 8 9 10 "
     ]
    }
   ],
   "source": [
    "n=1\n",
    "while(n<=10):\n",
    "    print(n,end=\" \")\n",
    "    n=n+1"
   ]
  },
  {
   "cell_type": "markdown",
   "id": "ebdef08c-2347-4fd3-8feb-fa4138de538b",
   "metadata": {},
   "source": [
    "# 4.Problem Statement:\n",
    "You work in XYZ Corporation as a Data Analyst. Your company has told you to\n",
    "work with the looping statements.\n",
    "Tasks To Be Performed:\n",
    "1. Create a list that has 10, 23, 4, 26, 4, 75, 24, 54 values and with the help\n",
    "of while loop fetch the even numbers and print the number"
   ]
  },
  {
   "cell_type": "code",
   "execution_count": 8,
   "id": "efa26929-4d9e-4066-bbda-569212b9afe5",
   "metadata": {},
   "outputs": [
    {
     "name": "stdout",
     "output_type": "stream",
     "text": [
      "10 4 26 4 24 54 "
     ]
    }
   ],
   "source": [
    "lis=[10, 23, 4, 26, 4, 75, 24, 54]\n",
    "i=0\n",
    "a=len(lis)\n",
    "while(a>i):\n",
    "    if(lis[i]%2==0):\n",
    "        print(lis[i],end=\" \")\n",
    "    i+=1"
   ]
  },
  {
   "cell_type": "markdown",
   "id": "075745e6-e221-4fdc-af99-c382a9204584",
   "metadata": {},
   "source": [
    "# 5.Problem Statement:\n",
    "You work in XYZ Corporation as a Data Analyst. Your company has told you to\n",
    "work with the looping statements.\n",
    "Tasks To Be Performed:\n",
    "1. Create an array that has user defined inputs and with the help of for loop,\n",
    "fetch all the prime numbers and print the numbers"
   ]
  },
  {
   "cell_type": "code",
   "execution_count": 10,
   "id": "fafcdfc6-7732-4039-bace-84595ef16d40",
   "metadata": {},
   "outputs": [
    {
     "name": "stdin",
     "output_type": "stream",
     "text": [
      "enter no of elments 5\n",
      "enter elments 4\n",
      "enter elments 9\n",
      "enter elments 7\n",
      "enter elments 4\n",
      "enter elments 2\n"
     ]
    },
    {
     "name": "stdout",
     "output_type": "stream",
     "text": [
      "ARRAY IS:  [4, 9, 7, 4, 2]\n",
      "PRIME NO IN ARRAY IS: \n"
     ]
    }
   ],
   "source": [
    "arr=[]\n",
    "n=int(input(\"enter no of elments\"))\n",
    "for i in range(n):\n",
    "    x=int(input(\"enter elments\"))\n",
    "    arr.append(x)\n",
    "print('ARRAY IS: ',arr)\n",
    "print('PRIME NO IN ARRAY IS: ')\n",
    "c=True\n",
    "for j in arr:\n",
    "    if j <= 1:\n",
    "        continue\n",
    "    for k in range(2,int(j**0.5)+1):\n",
    "        if(j%k==0):\n",
    "            c=False\n",
    "            break\n",
    "    if(c):\n",
    "         print(j,'prime')\n",
    "   "
   ]
  },
  {
   "cell_type": "markdown",
   "id": "04e12f18-9709-43d4-a501-0a27c72a6dfa",
   "metadata": {},
   "source": [
    "# **case study 1**\n",
    "Problem Statement:\n",
    "Consider yourself to be Sam who is a data scientist. He has been invited as a\n",
    "guest lecturer at a college to take an introductory session on Python.\n",
    "Tasks To Be Performed:\n",
    "1. Create a list containing squares of numbers from 1 to 10 (HINT: use List\n",
    "Comprehension).\n",
    "2. Write a function to check if the year number is a leap year.\n",
    "3. Write a function to take an array and return another array that contains the\n",
    "members of the first array that are even.\n",
    "4. Write a function that takes 2 arrays and prints the members of the first\n",
    "array that are present in the second array. (HINT: use Membership\n",
    "Comprehension)\n"
   ]
  },
  {
   "cell_type": "code",
   "execution_count": 12,
   "id": "b1d2d6f0-28cd-43b7-9c1e-a69200282c8a",
   "metadata": {},
   "outputs": [
    {
     "name": "stdout",
     "output_type": "stream",
     "text": [
      "list containing squares of numbers from 1 to 10 [1, 4, 9, 16, 25, 36, 49, 64, 81, 100]\n"
     ]
    }
   ],
   "source": [
    "lis=[]\n",
    "n=10\n",
    "for i in range (1,11):\n",
    "    a=i**2\n",
    "    lis.append(a)\n",
    "print('list containing squares of numbers from 1 to 10',lis)    "
   ]
  },
  {
   "cell_type": "code",
   "execution_count": 13,
   "id": "f3a2ff78-9f01-447d-98d7-411154deba24",
   "metadata": {},
   "outputs": [
    {
     "name": "stdin",
     "output_type": "stream",
     "text": [
      "enter year to check if its a leap year 2028\n"
     ]
    },
    {
     "name": "stdout",
     "output_type": "stream",
     "text": [
      "2028 is leap year\n"
     ]
    }
   ],
   "source": [
    "def is_leap(year):\n",
    "    if (year % 4 == 0 and year % 100 != 0) or (year % 400 == 0):\n",
    "        print(year,\"is leap year\")\n",
    "    else:\n",
    "        print(\"not a leap year\")\n",
    "n=int(input(\"enter year to check if its a leap year\"))\n",
    "if len(str(n)) != 4:\n",
    "    print(\"Please enter a valid 4-digit year.\")\n",
    "else:    \n",
    "    is_leap(n)"
   ]
  },
  {
   "cell_type": "code",
   "execution_count": 14,
   "id": "c82e5899-32f7-430f-a40e-a3a1ca9fcf06",
   "metadata": {},
   "outputs": [
    {
     "name": "stdin",
     "output_type": "stream",
     "text": [
      "enter length of array 5\n",
      "enter element to be inserted 2\n",
      "enter element to be inserted 8\n",
      "enter element to be inserted 6\n",
      "enter element to be inserted 4\n",
      "enter element to be inserted 99\n"
     ]
    },
    {
     "name": "stdout",
     "output_type": "stream",
     "text": [
      "Array [2, 8, 6, 4, 99]\n",
      "New array with even no present in first arr [2, 8, 6, 4]\n"
     ]
    }
   ],
   "source": [
    "arr=[]\n",
    "n=int(input(\"enter length of array\"))\n",
    "for i in range (n):\n",
    "    a=int(input(\"enter element to be inserted\"))\n",
    "    arr.append(a)\n",
    "print('Array',arr) \n",
    "n_arr=[]\n",
    "for i in arr:\n",
    "    if(i%2==0):\n",
    "        n_arr.append(i)\n",
    "    else:\n",
    "        continue\n",
    "print('New array with even no present in first arr',n_arr)"
   ]
  },
  {
   "cell_type": "code",
   "execution_count": null,
   "id": "86677fb2-5741-4f7f-9177-0b64681394f2",
   "metadata": {},
   "outputs": [
    {
     "name": "stdin",
     "output_type": "stream",
     "text": [
      "enter length of both array 4\n",
      "enter element to be inserted 5\n",
      "enter element to be inserted 9\n",
      "enter element to be inserted 7\n",
      "enter element to be inserted 0\n"
     ]
    },
    {
     "name": "stdout",
     "output_type": "stream",
     "text": [
      "Array1 [5, 9, 7, 0]\n"
     ]
    }
   ],
   "source": [
    "def common_elements(arr1, arr2):\n",
    "    common = [x for x in arr1 if x in arr2]\n",
    "    print(\"Common elements:\", common)\n",
    "arr1=[]\n",
    "n=int(input(\"enter length of both array\"))\n",
    "for i in range (n):\n",
    "    a=int(input(\"enter element to be inserted\"))\n",
    "    arr1.append(a)\n",
    "print('Array1',arr1) \n",
    "arr2=[]\n",
    "for j in range (n):\n",
    "    b=int(input(\"enter element to be inserted\"))\n",
    "    arr2.append(b)\n",
    "print('Array2',arr2)\n",
    "common_elements(arr1, arr2)"
   ]
  },
  {
   "cell_type": "markdown",
   "id": "b250391c-54bd-44ab-a7ac-ec709d4d99e2",
   "metadata": {},
   "source": [
    "# **case study 1**\n",
    "Problem Statement:\n",
    "Consider yourself to be Sam who is a data scientist. He has been invited as a\n",
    "guest lecturer at a college to take an introductory session on Python.\n",
    "Tasks To Be Performed:\n",
    "1. Create 1st tuple with values -> (10, 20, 30), 2nd tuple with values -> (40,\n",
    "50, 60):\n",
    "a. Concatenate the two tuples and store it in “t_combine”\n",
    "b. Repeat the elements of “t_combine” 3 times\n",
    "c. Access the 3rd element from “t_combine”\n",
    "d. Access the first three elements from “t_combine”\n",
    "e. Access the last three elements from “t_combine”\n",
    "2. Create a list ‘my_list’ with these elements:\n",
    "a. First element is a tuple with values 1, 2, 3\n",
    "b. Second element is a tuple with values “a”, “b”, “c”\n",
    "c. Third element is a tuple wwith values True, False\n",
    "3. Append a new tuple – (1, ‘a’, True) to ‘my_list’:\n",
    "a. Append a new list – *“sparta”, 123+ to my_list\n",
    "4. Create a dictionary ‘fruit’ where:\n",
    "a. The first key is ‘Fruit’ and the values are (“Apple”, “Banana”, “Mango”,\n",
    "“Guava”)\n",
    "b. The second key is ‘Cost’ and the values are (85, 54, 120, 70)\n",
    "c. Extract all the keys from ‘fruit’\n",
    "d. Extract all the values from ‘fruit’\n",
    "5. Create a set named ‘my_set’ with values (1, 1, “a”, “a”, True, True) and\n",
    "print the result.\n"
   ]
  },
  {
   "cell_type": "code",
   "execution_count": null,
   "id": "dd87bca1-7514-4ccf-952b-defdb8d4f737",
   "metadata": {},
   "outputs": [],
   "source": [
    "t1=(10, 20, 30)\n",
    "t2=(40,50, 60)\n",
    "#a\n",
    "t_combine = t1 + t2\n",
    "print(\"Concatenated tuple:\", t_combine)\n",
    "#b\n",
    "print('Repeat the elements of t_combine 3 times',t_combine*3)\n",
    "#c - Access the 3rd element from t_combine\n",
    "third_element = t_combine[2]\n",
    "print(\"3rd element:\", third_element)\n",
    "#d Access the first three elements from t_combine\n",
    "first_three_elements = t_combine[:3]\n",
    "print(\"First three elements:\", first_three_elements)\n",
    "#e Access the last three elements from t_combine\n",
    "last_three_elements = t_combine[-3:]\n",
    "print(\"Last three elements:\", last_three_elements)\n"
   ]
  },
  {
   "cell_type": "code",
   "execution_count": null,
   "id": "8eab68b1-df77-4166-a9ff-6c15ec94b8de",
   "metadata": {},
   "outputs": [],
   "source": [
    "#a,b,c\n",
    "my_list=[(1,2,3),('a','b','c'),(True,False)]\n",
    "print(my_list)\n",
    "#3 Append a new tuple to my_list\n",
    "my_list.append((1, 'a', True))\n",
    "print(\"Updated my_list with a tuple\", my_list)\n",
    "#Append a new list to my_list\n",
    "my_list.append([\"sparta\", 123])\n",
    "print(\"Updated my_list with a list\", my_list)\n"
   ]
  },
  {
   "cell_type": "code",
   "execution_count": null,
   "id": "d1ba8de7-c5f8-443d-82de-d18568d69ba9",
   "metadata": {},
   "outputs": [],
   "source": [
    "#4\n",
    "fruit={\"fruit\":(\"Apple\", \"Banana\", \"Mango\", \"Guava\"),\n",
    "    \"Cost\": (85, 54, 120, 70)}\n",
    "print(\"Fruit dictionary:\", fruit)\n",
    "# Extract all the keys from fruit\n",
    "k= fruit.keys()\n",
    "print(\"Keys:\", k)\n",
    "# Extract all the values from fruit\n",
    "v= fruit.values()\n",
    "print(\"Values:\",v)"
   ]
  },
  {
   "cell_type": "code",
   "execution_count": null,
   "id": "ad3dac63-d361-4058-acdb-8b30dc27f1e5",
   "metadata": {},
   "outputs": [],
   "source": [
    "# 5 Create a set with duplicates\n",
    "my_set = {1, 1, \"a\", \"a\", True,True}\n",
    "print(\"Set without duplicate:\", my_set)\n"
   ]
  },
  {
   "cell_type": "code",
   "execution_count": null,
   "id": "635691e4-66f0-4a18-8b69-9bcdca38f8eb",
   "metadata": {},
   "outputs": [],
   "source": []
  }
 ],
 "metadata": {
  "kernelspec": {
   "display_name": "Python 3 (ipykernel)",
   "language": "python",
   "name": "python3"
  },
  "language_info": {
   "codemirror_mode": {
    "name": "ipython",
    "version": 3
   },
   "file_extension": ".py",
   "mimetype": "text/x-python",
   "name": "python",
   "nbconvert_exporter": "python",
   "pygments_lexer": "ipython3",
   "version": "3.12.7"
  }
 },
 "nbformat": 4,
 "nbformat_minor": 5
}
