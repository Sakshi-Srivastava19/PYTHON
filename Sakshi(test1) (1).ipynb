{
 "cells": [
  {
   "cell_type": "markdown",
   "id": "212bd753-d7ba-4adf-bb2f-3d5ca8597613",
   "metadata": {},
   "source": [
    "# 15th Jan Practice Test - Python Basics\n",
    "Instructions:\n",
    "Test Timings: 8:10 PM to 9:50 PM. Ensure you submit your answers within this timeframe.\n",
    "\n",
    "#Guidelines:\n",
    "\n",
    "Focus on logical thinking and building solutions step by step.\n",
    "You can conduct minimal research for understanding, but avoid copying solutions directly from any source.\n",
    "Plagiarism Policy: We will use tools to detect plagiarism. If any part of your code is found copied, you will receive 0 marks for the test.\n",
    "Answer all questions to the best of your ability.\n",
    "Submission Format: Write your code in python file in .py or .ipynb format then submit your solution file in the upload file option below.\n",
    "\n",
    "\n",
    "**Question 1: Fibonacci Series Using While Loop\n",
    "Write a Python program to generate the first n numbers of the Fibonacci series using a while loop.**\n",
    "\n",
    "Input: n = 10\n",
    "Output: 0, 1, 1, 2, 3, 5, 8, 13, 21, 34\n",
    "\n",
    "**Question 2: Find Prime Numbers in a Range\n",
    "Write a Python program that takes two integers as input (start and end) and prints all prime numbers in that range using a for loop and conditional statements. Avoid using list comprehensions.**\n",
    "Input: start = 10, end = 30\n",
    "Output: 11, 13, 17, 19, 23, 29\n",
    "\n",
    "**Question 3: Factorial Using a Function\n",
    "Write a Python function called calculate_factorial that takes a number n as input and returns the factorial of n using a for loop.**\n",
    "\n",
    "Input: n = 5\n",
    "Output: 120\n",
    "**Question 4: Filter Even Numbers Using a Lambda Function and Loops\n",
    "Write a Python program to filter out even numbers from a given list using a lambda function and a for loop (without using list comprehensions).**\n",
    "\n",
    "Input: nums = [1, 2, 3, 4, 5, 6, 7, 8, 9, 10]\n",
    "Output: [2, 4, 6, 8, 10]\n",
    "**Question 5: Reverse a String Using a Function\n",
    "Write a Python function called reverse_string that takes a string as input and returns the reversed string. Use a while loop in the implementation.**\n",
    "\n",
    "Input: text = \"Python\"\n",
    "Output: \"nohtyP\""
   ]
  },
  {
   "cell_type": "markdown",
   "id": "bee4acc4-8725-49a5-ae3f-e5ae95594939",
   "metadata": {},
   "source": [
    "# Question 1: Fibonacci Series Using While Loop\n",
    "Write a Python program to generate the first n numbers of the Fibonacci series using a while loop.\n",
    "\n",
    "Input: n = 10\n",
    "Output: 0, 1, 1, 2, 3, 5, 8, 13, 21, 34"
   ]
  },
  {
   "cell_type": "code",
   "execution_count": 3,
   "id": "e5890780-6a5f-4612-968e-a1a1de4b02f8",
   "metadata": {},
   "outputs": [
    {
     "name": "stdout",
     "output_type": "stream",
     "text": [
      "0 1 1 2 3 5 8 13 21 34 "
     ]
    }
   ],
   "source": [
    "n=10\n",
    "a=0\n",
    "b=1\n",
    "c=1\n",
    "temp=b\n",
    "while(c<=n):\n",
    "    \n",
    "    print(a,end=' ')\n",
    "    c+=1\n",
    "    a,b=b,temp\n",
    "    temp=a+b\n",
    "\n"
   ]
  },
  {
   "cell_type": "markdown",
   "id": "e7b76989-2925-4828-8d07-2c1c2a329926",
   "metadata": {},
   "source": [
    "# Question 2: Find Prime Numbers in a Range\n",
    "Write a Python program that takes two integers as input (start and end) and prints all prime numbers in that range using a for loop and conditional statements. Avoid using list comprehensions.\n",
    "\n",
    "Input: start = 10, end = 30\n",
    "Output: 11, 13, 17, 19, 23, 29"
   ]
  },
  {
   "cell_type": "code",
   "execution_count": 2,
   "id": "250ca8b5-8f4e-4f07-b933-83aa933d76b9",
   "metadata": {},
   "outputs": [
    {
     "name": "stdout",
     "output_type": "stream",
     "text": [
      "11 13 17 19 23 29 "
     ]
    }
   ],
   "source": [
    "start=10\n",
    "end=30\n",
    "for i in range(start,end+1):\n",
    "    if i>=1:\n",
    "        for j in range(2,int(i/2)+1):\n",
    "            if i%j==0:\n",
    "                break\n",
    "        else:\n",
    "          print(i,end=\" \")"
   ]
  },
  {
   "cell_type": "markdown",
   "id": "9effe8b5-0fd1-440e-8931-33b1b3afb7fa",
   "metadata": {},
   "source": [
    "Question 3: Factorial Using a Function\n",
    "Write a Python function called calculate_factorial that takes a number n as input and returns the factorial of n using a for loop.\n",
    "\n",
    "Input: n = 5\n",
    "Output: 120"
   ]
  },
  {
   "cell_type": "code",
   "execution_count": 9,
   "id": "643a38a2-8cf2-497b-a845-6a470eed5f84",
   "metadata": {},
   "outputs": [
    {
     "name": "stdout",
     "output_type": "stream",
     "text": [
      "The factorial of 5 is 120\n"
     ]
    }
   ],
   "source": [
    "n=5\n",
    "def calculate_factorial(n):\n",
    "    fact=1\n",
    "    for i in range(1,n+1):\n",
    "     fact=i*fact\n",
    "    return fact\n",
    "a = calculate_factorial(n)\n",
    "print(f\"The factorial of {n} is {a}\")\n"
   ]
  },
  {
   "cell_type": "raw",
   "id": "0469a190-53dd-485e-9c70-5eebc78c0f08",
   "metadata": {},
   "source": [
    "Question 4: Filter Even Numbers Using a Lambda Function and Loops\n",
    "Write a Python program to filter out even numbers from a given list using a lambda function and a for loop (without using list comprehensions).\n",
    "\n",
    "Input: nums = [1, 2, 3, 4, 5, 6, 7, 8, 9, 10]\n",
    "Output: [2, 4, 6, 8, 10]"
   ]
  },
  {
   "cell_type": "code",
   "execution_count": 11,
   "id": "08f454da-5975-4d0f-b061-72de2428cdae",
   "metadata": {},
   "outputs": [
    {
     "name": "stdout",
     "output_type": "stream",
     "text": [
      "even number only: [2, 4, 6, 8, 10]\n"
     ]
    }
   ],
   "source": [
    "nums = [1, 2, 3, 4, 5, 6, 7, 8, 9, 10]\n",
    "no= []\n",
    "for i in nums:\n",
    "    if (lambda x: x % 2 == 0)(i):\n",
    "        no.append(i)\n",
    "print(\"even number only:\",no)\n"
   ]
  },
  {
   "cell_type": "raw",
   "id": "c6abbfc9-f736-4bfb-89d9-e26cfa51f50c",
   "metadata": {},
   "source": [
    "Question 5: Reverse a String Using a Function\n",
    "Write a Python function called reverse_string that takes a string as input and returns the reversed string. Use a while loop in the implementation.\n",
    "\n",
    "Input: text = \"Python\"\n",
    "Output: \"nohtyP\""
   ]
  },
  {
   "cell_type": "code",
   "execution_count": 23,
   "id": "a98061f3-d32a-49f5-8bfc-25a70dae443d",
   "metadata": {},
   "outputs": [
    {
     "name": "stdout",
     "output_type": "stream",
     "text": [
      "Reversed string: nohtyP\n"
     ]
    }
   ],
   "source": [
    "def reverse_string(text):\n",
    "    reversed_text = \"\"  \n",
    "    index = len(text)-1 \n",
    "    while index >= 0:\n",
    "        reversed_text+= text[index]  \n",
    "        index-= 1 \n",
    "    return reversed_text\n",
    "text = \"Python\"\n",
    "result = reverse_string(text)\n",
    "print(\"Reversed string:\", result)\n"
   ]
  }
 ],
 "metadata": {
  "kernelspec": {
   "display_name": "Python 3 (ipykernel)",
   "language": "python",
   "name": "python3"
  },
  "language_info": {
   "codemirror_mode": {
    "name": "ipython",
    "version": 3
   },
   "file_extension": ".py",
   "mimetype": "text/x-python",
   "name": "python",
   "nbconvert_exporter": "python",
   "pygments_lexer": "ipython3",
   "version": "3.12.7"
  }
 },
 "nbformat": 4,
 "nbformat_minor": 5
}
