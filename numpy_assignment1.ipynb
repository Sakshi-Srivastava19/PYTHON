{
 "cells": [
  {
   "cell_type": "markdown",
   "id": "157ba81c-ad65-4af2-ac8d-a5398bf645d0",
   "metadata": {},
   "source": [
    "# Tasks To Be Performed:\n",
    "**1. Create a list named ‘myList’ that has the following elements: 10, 20, 30,‘apple’, True, 8.10:<br>\n",
    "a. Now in the ‘myList’, append these values: 30, 40<br>\n",
    "b. After that, reverse the elements of the ‘myList’ and store that in ‘reversedList’**"
   ]
  },
  {
   "cell_type": "code",
   "execution_count": 77,
   "id": "daad3b68-fd01-4874-abd6-47d494882ae9",
   "metadata": {},
   "outputs": [
    {
     "name": "stdout",
     "output_type": "stream",
     "text": [
      "myList:  [10, 20, 30, 'apple', True, 8.1, 30, 40]\n",
      "reversedList:  [40, 30, 8.1, True, 'apple', 30, 20, 10]\n"
     ]
    }
   ],
   "source": [
    "myList=[10,20,30,'apple',True,8.10]\n",
    "myList.append(30)\n",
    "myList.append(40)\n",
    "print('myList: ',myList)\n",
    "reversedList=myList[::-1]\n",
    "print('reversedList: ',reversedList)"
   ]
  },
  {
   "cell_type": "markdown",
   "id": "aae2cc13-b116-452a-a6d1-f652dc78962f",
   "metadata": {},
   "source": [
    "**2. Create a dictionary with key values as 1, 2, 3 and the values as ‘data’, ‘information’ and ‘text’:<br>\n",
    "a. After that, eliminate the ‘text’ value from the dictionary<br>\n",
    "b. Add ‘features’ in the dictionary<br>\n",
    "c. Fetch the ‘data’ element from the dictionary and display it in the output**"
   ]
  },
  {
   "cell_type": "code",
   "execution_count": 80,
   "id": "9df88e9a-783f-4c46-abff-025e327e2070",
   "metadata": {},
   "outputs": [
    {
     "name": "stdout",
     "output_type": "stream",
     "text": [
      "Dictionary:  {1: 'data', 2: 'information', 3: 'text'}\n",
      "Dictionary after eliminating --text-- :  {1: 'data', 2: 'information'}\n",
      "Dictionary after adding --features-- :  {1: 'data', 2: 'information'}\n",
      "Fetched the ‘data’ element from the dictionary:   data\n"
     ]
    }
   ],
   "source": [
    "dict1={1:\"data\",2:\"information\",3:\"text\"}\n",
    "print('Dictionary: ',dict1)\n",
    "del dict1[3]\n",
    "print('Dictionary after eliminating --text-- : ',dict1)\n",
    "dict[4] = 'features'\n",
    "print('Dictionary after adding --features-- : ',dict1)\n",
    "data_value = dict1[1]\n",
    "print(\"Fetched the ‘data’ element from the dictionary:  \", data_value)"
   ]
  },
  {
   "cell_type": "markdown",
   "id": "9a394515-cc8c-4781-aa2d-f4b3b9ba25f2",
   "metadata": {},
   "source": [
    "**3. Create a tuple and add these elements 1, 2, 3, apple, mango in my_tuple.**"
   ]
  },
  {
   "cell_type": "code",
   "execution_count": 83,
   "id": "88d740cb-dcdc-4aca-bde4-011d288bcfb2",
   "metadata": {},
   "outputs": [
    {
     "name": "stdout",
     "output_type": "stream",
     "text": [
      "My Tuple:  (1, 2, 3, 'apple', 'mango')\n"
     ]
    }
   ],
   "source": [
    "my_tuple=(1, 2, 3, 'apple', 'mango')\n",
    "print(\"My Tuple: \",my_tuple)"
   ]
  },
  {
   "cell_type": "markdown",
   "id": "50ab1cce-5bdc-4842-b061-bb6f3cf1816e",
   "metadata": {},
   "source": [
    "**4. Create another tuple named numeric_tuple consisting of only integer values 10, 20, 30, 40, 50:<br>\n",
    "a. Find the minimum value from the numeric_tuple<br>\n",
    "b. Concatenate my_tuple with numeric_tuple and store the result in r1<br>\n",
    "c. Duplicate the tuple named my_tuple 2 times and store that in ‘newdupli’<br>**"
   ]
  },
  {
   "cell_type": "code",
   "execution_count": 86,
   "id": "37637fea-4bab-40d5-ab73-02fb959f3d3c",
   "metadata": {},
   "outputs": [
    {
     "name": "stdout",
     "output_type": "stream",
     "text": [
      "Minimum value from numeric_tuple: 10 \n",
      "\n",
      "Concatenated tuple :  (1, 2, 3, 'apple', 'mango', 10, 20, 30, 40, 50) \n",
      "\n",
      "Duplicated my_tuple:  (1, 2, 3, 'apple', 'mango', 1, 2, 3, 'apple', 'mango')\n"
     ]
    }
   ],
   "source": [
    "numeric_tuple = (10, 20, 30, 40, 50)\n",
    "# a. Finding the minimum value from numeric_tuple\n",
    "min_val = min(numeric_tuple)\n",
    "print(\"Minimum value from numeric_tuple:\", min_val,'\\n')\n",
    "# b. Concatenating my_tuple with numeric_tuple and storing the result in r1\n",
    "r1 = my_tuple + numeric_tuple\n",
    "print(\"Concatenated tuple : \", r1,\"\\n\")\n",
    "# c. Duplicating my_tuple 2 times and storing that in 'newdupli'\n",
    "newdupli = my_tuple * 2\n",
    "print(\"Duplicated my_tuple: \", newdupli)"
   ]
  },
  {
   "cell_type": "markdown",
   "id": "439972c0-2931-4a96-a768-adb712155673",
   "metadata": {},
   "source": [
    "**5. Create 2 sets with the names set1 and set2, where set1 contains {1,2,3,4,5} and set2 contains {2,3,7,6,1}<br>\n",
    "Perform the below operation:<br>\n",
    "a. set1 union set2<br>\n",
    "b. set1 intersection set2<br>\n",
    "c. set1 difference set2**"
   ]
  },
  {
   "cell_type": "code",
   "execution_count": null,
   "id": "23de73e8-876e-41c4-89e8-95124a2cdeb1",
   "metadata": {},
   "outputs": [],
   "source": [
    "set1={1,2,3,4,5}\n",
    "set2={2,3,7,6,1}\n",
    "# a. Union of set1 and set2\n",
    "union_result = set1 | set2 \n",
    "a=set1.union(set2)\n",
    "print(\"Union of set1 and set2:\", union_result)\n",
    "print(\"Union of set1 and set2:\", a,'\\n')\n",
    "# b. Intersection of set1 and set2\n",
    "intersection_result = set1 & set2 \n",
    "b=set1.intersection(set2)\n",
    "print(\"Intersection of set1 and set2:\", intersection_result)\n",
    "\n",
    "# c. Difference of set1 and set2\n",
    "difference_result = set1 - set2  # or set1.difference(set2)\n",
    "\n",
    "# Displaying the results\n",
    "\n",
    "print(\"Intersection of set1 and set2:\", intersection_result)\n",
    "print(\"Difference of set1 and set2:\", difference_result)\n"
   ]
  }
 ],
 "metadata": {
  "kernelspec": {
   "display_name": "Python 3 (ipykernel)",
   "language": "python",
   "name": "python3"
  },
  "language_info": {
   "codemirror_mode": {
    "name": "ipython",
    "version": 3
   },
   "file_extension": ".py",
   "mimetype": "text/x-python",
   "name": "python",
   "nbconvert_exporter": "python",
   "pygments_lexer": "ipython3",
   "version": "3.12.7"
  }
 },
 "nbformat": 4,
 "nbformat_minor": 5
}
