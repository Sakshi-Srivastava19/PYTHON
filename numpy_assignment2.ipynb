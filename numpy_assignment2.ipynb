{
 "cells": [
  {
   "cell_type": "markdown",
   "id": "b808a61a-10fe-4381-a84d-528c6fa447e4",
   "metadata": {},
   "source": [
    "# Problem Statement:\n",
    "**You work in XYZ Corporation as a Data Analyst. Your corporation has told you to use the NumPy package and do some tasks related to that.<br>\n",
    "Tasks To Be Performed:**\n"
   ]
  },
  {
   "cell_type": "markdown",
   "id": "b432d9a5-606f-49e1-815e-8592bb4f53cd",
   "metadata": {},
   "source": [
    "**1. Create a 3x3 matrix array with values ranging from 2 to 10.**"
   ]
  },
  {
   "cell_type": "code",
   "execution_count": 6,
   "id": "da7aa1eb-83fc-42ad-b425-b0ccf9cddff9",
   "metadata": {},
   "outputs": [
    {
     "name": "stdout",
     "output_type": "stream",
     "text": [
      "Task 1 - 3x3 Matrix:\n",
      " [[ 2  3  4]\n",
      " [ 5  6  7]\n",
      " [ 8  9 10]]\n"
     ]
    }
   ],
   "source": [
    "import numpy as np \n",
    "a=np.arange(2,11).reshape(3,3)\n",
    "print(\"Task 1 - 3x3 Matrix:\\n\",a)"
   ]
  },
  {
   "cell_type": "markdown",
   "id": "4002e49e-1881-4759-808c-90e7fb49acbd",
   "metadata": {},
   "source": [
    "**2. Create a NumPy array having user input values and convert the integer type to the float type of the elements of the array. For instance:<br>\n",
    "Original array [1, 2, 3, 4] Array converted to a float type: [ 1. 2. 3. 4.]**"
   ]
  },
  {
   "cell_type": "code",
   "execution_count": 52,
   "id": "0f7e91d3-0cf1-4fdc-8c1e-1f1eb5ac3f04",
   "metadata": {},
   "outputs": [
    {
     "name": "stdin",
     "output_type": "stream",
     "text": [
      "Enter array separated by spaces:  1 2 3 4\n"
     ]
    },
    {
     "name": "stdout",
     "output_type": "stream",
     "text": [
      "\n",
      "Original array:\n",
      " [1 2 3 4]\n",
      "Array converted to float type:\n",
      " [1. 2. 3. 4.]\n"
     ]
    }
   ],
   "source": [
    "import numpy as np\n",
    "user_input = input(\"Enter array separated by spaces: \").split()\n",
    "array = np.array(user_input, dtype=int)\n",
    "array_float = array.astype(float)\n",
    "print(\"\\nOriginal array:\\n\", array)\n",
    "print(\"Array converted to float type:\\n\", array_float)\n"
   ]
  },
  {
   "cell_type": "markdown",
   "id": "9ec029c8-76c2-40d6-9dc6-0ffa21ab3f63",
   "metadata": {},
   "source": [
    "**3. Write a NumPy program to append values to the end of an array. For instance: Original array: [10, 20, 30] . After that, append values to the end \n",
    "of the array: [10 20 30 40 50 60 70 80 90]**"
   ]
  },
  {
   "cell_type": "code",
   "execution_count": 50,
   "id": "2a8d6491-17ad-4440-a8a1-67a59bb4e9d3",
   "metadata": {},
   "outputs": [
    {
     "name": "stdout",
     "output_type": "stream",
     "text": [
      "original array:\n",
      " [10 20 30]\n",
      "\n",
      "Task 3 - (Array after appending):\n",
      " [10 20 30 40 50 60 70 80 90]\n"
     ]
    }
   ],
   "source": [
    "original_array = np.array([10, 20, 30])\n",
    "print(\"original array:\\n\",original_array)\n",
    "extended_array = np.append(original_array, [40, 50, 60, 70, 80, 90])\n",
    "print(\"\\nTask 3 - (Array after appending):\\n\", extended_array)"
   ]
  },
  {
   "cell_type": "markdown",
   "id": "97c4bb0a-6a0b-4108-96a9-d812d42ad861",
   "metadata": {},
   "source": [
    "**4. Create two NumPy arrays and add the elements of both the arrays and\n",
    "store the result in sumArray.**"
   ]
  },
  {
   "cell_type": "code",
   "execution_count": 48,
   "id": "9f8f15fe-e277-42ae-9ce6-9268dcaccc60",
   "metadata": {},
   "outputs": [
    {
     "name": "stdout",
     "output_type": "stream",
     "text": [
      "\n",
      "Task 4-(Sum of arrays):\n",
      " [[14 25 36]\n",
      " [44 55 66]\n",
      " [74 85 96]]\n"
     ]
    }
   ],
   "source": [
    "# Task 4\n",
    "arr1 = np.array([1, 2, 3])\n",
    "arr2 = np.array([4, 5, 6])\n",
    "sum_array = array1 + array2\n",
    "print(\"\\nTask 4-(Sum of arrays):\\n\", sum_array)"
   ]
  },
  {
   "cell_type": "markdown",
   "id": "175c36c4-ec07-4a67-aa73-e0d46a48987a",
   "metadata": {},
   "source": [
    "**5. Create a 3x3 array having values from 10-90 (interval of 10) and store that in array1<br>\n",
    "Perform the following tasks:<br>\n",
    "a. Extract the 1st row from the array<br>\n",
    "b. Extract the last element from the array<br>**\""
   ]
  },
  {
   "cell_type": "code",
   "execution_count": 42,
   "id": "062fa044-dcbb-48ae-a769-b2a44ba60b9d",
   "metadata": {},
   "outputs": [
    {
     "name": "stdout",
     "output_type": "stream",
     "text": [
      "\n",
      "Task 5 - 3x3 Array:\n",
      " [[10 20 30]\n",
      " [40 50 60]\n",
      " [70 80 90]]\n",
      "\n",
      "First row: [10 20 30]\n",
      "\n",
      "Last element: 90\n"
     ]
    }
   ],
   "source": [
    "array1 = np.arange(10, 100, 10).reshape(3, 3)\n",
    "print(\"\\nTask 5 - 3x3 Array:\\n\", array1)\n",
    "firstr = array1[0]\n",
    "print(\"\\nFirst row:\", firstr)\n",
    "last_element = array1[-1, -1]\n",
    "print(\"\\nLast element:\", last_element)"
   ]
  },
  {
   "cell_type": "code",
   "execution_count": null,
   "id": "b34431fb-bdd3-4fa8-8d6a-dbd85cb2026e",
   "metadata": {},
   "outputs": [],
   "source": []
  }
 ],
 "metadata": {
  "kernelspec": {
   "display_name": "Python 3 (ipykernel)",
   "language": "python",
   "name": "python3"
  },
  "language_info": {
   "codemirror_mode": {
    "name": "ipython",
    "version": 3
   },
   "file_extension": ".py",
   "mimetype": "text/x-python",
   "name": "python",
   "nbconvert_exporter": "python",
   "pygments_lexer": "ipython3",
   "version": "3.12.7"
  }
 },
 "nbformat": 4,
 "nbformat_minor": 5
}
