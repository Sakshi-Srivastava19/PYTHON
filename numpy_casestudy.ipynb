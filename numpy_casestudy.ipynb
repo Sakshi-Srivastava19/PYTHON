{
 "cells": [
  {
   "cell_type": "markdown",
   "id": "26c01072-8cbd-4e77-8eb2-a5470662ab21",
   "metadata": {},
   "source": [
    "# Problem Statement:\n",
    "You work in XYZ Company as a Python developer. The company officials want\n",
    "you to build a Python program.\n",
    "**Tasks To Be Performed:**"
   ]
  },
  {
   "cell_type": "markdown",
   "id": "35ebdee1-7357-43bc-9488-b80db1963780",
   "metadata": {},
   "source": [
    "**1. Create a function that takes dimensions as tuples e.g. (3, 3) and a numeric\n",
    "value and returns a NumPy array of the given dimension filled with the\n",
    "given value e.g.: solve((3, 3), 5) will return<br>\n",
    "[\n",
    "[5, 5, 5],<br>\n",
    "[5, 5, 5],<br>\n",
    "[5, 5, 5]]**"
   ]
  },
  {
   "cell_type": "code",
   "execution_count": 25,
   "id": "a4f1eccf-058d-4ab2-a0b7-d6dde0038ff9",
   "metadata": {},
   "outputs": [
    {
     "name": "stdout",
     "output_type": "stream",
     "text": [
      "[[5 5 5]\n",
      " [5 5 5]\n",
      " [5 5 5]]\n"
     ]
    }
   ],
   "source": [
    "import numpy as np\n",
    "def array_1(dimensions, value):\n",
    "    return np.full(dimensions, value)\n",
    "result= array_1((3, 3), 5)\n",
    "print(result)\n"
   ]
  },
  {
   "cell_type": "markdown",
   "id": "f8c8c9f1-2e63-4bc5-9204-cc17e7378a97",
   "metadata": {},
   "source": [
    "**2. Create a method that takes n NumPy arrays of the same dimensions,\n",
    "sums them and returns the answer.**"
   ]
  },
  {
   "cell_type": "code",
   "execution_count": 28,
   "id": "fe1515f3-6448-4e7e-8b62-bf376979bb11",
   "metadata": {},
   "outputs": [
    {
     "name": "stdout",
     "output_type": "stream",
     "text": [
      "[[ 9  4  3]\n",
      " [ 6 11 16]\n",
      " [12  9  6]]\n"
     ]
    }
   ],
   "source": [
    "def sum_arrays(*arrays):\n",
    "    if all(array.shape == arrays[0].shape for array in arrays):\n",
    "        return np.sum(arrays, axis=0)\n",
    "    else:\n",
    "        raise ValueError(\"All arrays must have the same shape\")\n",
    "a1 = np.array([[1,2,3],[2,5,8],[8,6,4]])\n",
    "a2 = np.array([[8,2,0],[4,6,8],[4,3,2]])\n",
    "r2 = sum_arrays(a1, a2)\n",
    "print(r2)"
   ]
  },
  {
   "cell_type": "markdown",
   "id": "450d39d9-14ad-4096-a3a9-f663ea9bb740",
   "metadata": {},
   "source": [
    "**3. Given a 2 D Array of N X M Dimension, write a function that accepts this\n",
    "array as well as two numbers N and M. The method should return the\n",
    "top-left N X M sub matrix, e.g:\n",
    "[\n",
    "[1, 2, 3],<br>\n",
    "[4, 5, 6],<br>\n",
    "[7, 8, 9],\n",
    "]<br><br>\n",
    "top_left_sub_matrix (matrix, 2, 2) -> should return:<br>\n",
    "[\n",
    "[1, 2]<br>\n",
    "[4, 5]]**"
   ]
  },
  {
   "cell_type": "code",
   "execution_count": 31,
   "id": "b5173cd0-574c-49fa-a0fd-a0ab561c2a57",
   "metadata": {},
   "outputs": [
    {
     "name": "stdout",
     "output_type": "stream",
     "text": [
      "[[1 2]\n",
      " [4 5]]\n"
     ]
    }
   ],
   "source": [
    "def top_left_sub_matrix(matrix, N, M):\n",
    "    return matrix[:N, :M]\n",
    "matrix = np.array([\n",
    "    [1, 2, 3],\n",
    "    [4, 5, 6],\n",
    "    [7, 8, 9]\n",
    "])\n",
    "r3 = top_left_sub_matrix(matrix, 2, 2)\n",
    "print(r3)"
   ]
  },
  {
   "cell_type": "markdown",
   "id": "c1085227-bd82-4c7e-913d-64f3f1fcde8e",
   "metadata": {},
   "source": [
    "**4. Given a 2 D Array of N X M Dimension, write a function that accepts this array as well as two numbers N and M. The method should return the\n",
    "bottom-right N X M sub matrix, e.g:<br>\n",
    "[\n",
    "[1, 2, 3],<br>\n",
    "[4, 5, 6],<br>\n",
    "[7, 8, 9],\n",
    "]<br>\n",
    "sub_matrix(matrix, 1, 1) -> should return : (Keep in mind these arrays are zero indexed).<br>\n",
    "[\n",
    "[5, 6]<br>\n",
    "[8, 9]\n",
    "]**"
   ]
  },
  {
   "cell_type": "code",
   "execution_count": 41,
   "id": "59ce457a-c47d-4587-ad9e-c511d13ebdad",
   "metadata": {},
   "outputs": [
    {
     "name": "stdout",
     "output_type": "stream",
     "text": [
      "[[5 6]\n",
      " [8 9]]\n"
     ]
    }
   ],
   "source": [
    "import numpy as np\n",
    "def sub_matrix(matrix, N, M):\n",
    "    rows, cols = matrix.shape\n",
    "    return matrix[rows - N:, cols - M:]\n",
    "matrix1 = np.array([\n",
    "    [1, 2, 3],\n",
    "    [4, 5, 6],\n",
    "    [7, 8, 9]\n",
    "])\n",
    "\n",
    "result = sub_matrix(matrix1, 2, 2)\n",
    "print(result)"
   ]
  },
  {
   "cell_type": "markdown",
   "id": "283a1e65-34eb-411b-8bdb-86faa6c8db76",
   "metadata": {},
   "source": [
    "**5. Given a 1 D NumPy Array. Write a function that accepts this array as\n",
    "parameters. The method should return a dictionary with 'mean' and\n",
    "'std_dev' as key and array's mean and array's standard deviation as\n",
    "values:<br>\n",
    "[1, 1, 1]<br>\n",
    "solution(arr) -> should return :<br>\n",
    "{'mean': 1.0, 'std_dev': 0.0}**"
   ]
  },
  {
   "cell_type": "code",
   "execution_count": 35,
   "id": "47d65cbf-bef7-4567-a18a-d613b7cb52fe",
   "metadata": {},
   "outputs": [
    {
     "name": "stdout",
     "output_type": "stream",
     "text": [
      "{'mean': 1.0, 'std_dev': 0.0}\n"
     ]
    }
   ],
   "source": [
    "import numpy as np\n",
    "def solution(arr):\n",
    "    mean = np.mean(arr)\n",
    "    std_dev = np.std(arr)\n",
    "    return {'mean': mean, 'std_dev': std_dev}\n",
    "arr = np.array([1, 1, 1])\n",
    "result = solution(arr)\n",
    "print(result)"
   ]
  },
  {
   "cell_type": "code",
   "execution_count": null,
   "id": "25d7fcba-6fc8-4f08-bd89-78e2e45711a0",
   "metadata": {},
   "outputs": [],
   "source": []
  }
 ],
 "metadata": {
  "kernelspec": {
   "display_name": "Python 3 (ipykernel)",
   "language": "python",
   "name": "python3"
  },
  "language_info": {
   "codemirror_mode": {
    "name": "ipython",
    "version": 3
   },
   "file_extension": ".py",
   "mimetype": "text/x-python",
   "name": "python",
   "nbconvert_exporter": "python",
   "pygments_lexer": "ipython3",
   "version": "3.12.7"
  }
 },
 "nbformat": 4,
 "nbformat_minor": 5
}
