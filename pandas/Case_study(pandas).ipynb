{
 "cells": [
  {
   "cell_type": "markdown",
   "id": "bd4e8123-75ee-442f-8c17-820537e8696c",
   "metadata": {},
   "source": [
    "# Problem Statement:\n"
   ]
  },
  {
   "cell_type": "markdown",
   "id": "5086a47f-487d-4920-abe3-3eb0af904892",
   "metadata": {},
   "source": [
    "**You work in XYZ Company as a Python developer. The company officials want\n",
    "you to build a Python program.<br> Tasks To Be Performed:<br>**\n",
    "**1. Write a function that takes start and end of a range returns a pandas series object containing numbers within that range.<br>In case the user does not pass start or end or both they should default to 1 and 10 respectively. E.g<br>-> range_series() -> Should Return a pandas series from 1 to 10<br>range_series(5) -> Should Return a pandas series from 5 to 10 range_series(5, 10)<br> -> Should Return a pandas series from 5 to 15<br>Create a method that takes n NumPy arrays of the same dimensions, sums them and returns the answer.**"
   ]
  },
  {
   "cell_type": "code",
   "execution_count": 49,
   "id": "5b0811d9-96ad-48c8-815f-b6948353bbc5",
   "metadata": {},
   "outputs": [
    {
     "name": "stdout",
     "output_type": "stream",
     "text": [
      "Range Series (Default):\n",
      "\n",
      "0     1\n",
      "1     2\n",
      "2     3\n",
      "3     4\n",
      "4     5\n",
      "5     6\n",
      "6     7\n",
      "7     8\n",
      "8     9\n",
      "9    10\n",
      "dtype: int64\n",
      "\n",
      "Range Series (5 to 10):\n",
      "\n",
      "0     5\n",
      "1     6\n",
      "2     7\n",
      "3     8\n",
      "4     9\n",
      "5    10\n",
      "dtype: int64\n",
      "\n",
      "Range Series (5):\n",
      "0     5\n",
      "1     6\n",
      "2     7\n",
      "3     8\n",
      "4     9\n",
      "5    10\n",
      "dtype: int64\n"
     ]
    }
   ],
   "source": [
    "import pandas as pd\n",
    "def range_series(start=1,end=10):\n",
    "    return pd.Series(range(start, end+1))\n",
    "print(\"Range Series (Default):\\n\")\n",
    "print(range_series())\n",
    "\n",
    "print(\"\\nRange Series (5 to 10):\\n\")\n",
    "print(range_series(5, 10))\n",
    "\n",
    "print(\"\\nRange Series (5):\")\n",
    "print(range_series(5))\n"
   ]
  },
  {
   "cell_type": "markdown",
   "id": "16a97eb7-c63e-41ae-b503-95afc7411601",
   "metadata": {},
   "source": [
    "**2. Create a function that takes in two lists named keys and values as arguments<br>\n",
    "Keys would be strings and contain n string values<br>\n",
    "Values would be a list containing n lists<br>\n",
    "The methods should return a new pandas DataFrame with keys as column\n",
    "names and values as their corresponding values, e.g:<br>\n",
    "->create_dataframe([\"One\", \"Two\"], [[\"X\", \"Y\"], [\"A\", \"B\"]]) -> should return a\n",
    "data frame<br><br>\n",
    "One Two<br>\n",
    "0 X A<br>\n",
    "1 Y B<br>**\n",
    "\n"
   ]
  },
  {
   "cell_type": "code",
   "execution_count": 52,
   "id": "981cd9c3-2c1a-4cb1-8bbe-77b618500c6d",
   "metadata": {},
   "outputs": [
    {
     "name": "stdout",
     "output_type": "stream",
     "text": [
      "  One Two\n",
      "0   X   A\n",
      "1   Y   B\n"
     ]
    }
   ],
   "source": [
    "def create_dataframe(keys,values):\n",
    "    return pd.DataFrame(values, columns=keys)\n",
    "k=[\"One\", \"Two\"]\n",
    "v=[[\"X\", \"A\"], [\"Y\", \"B\"]]\n",
    "df=create_dataframe(k,v)\n",
    "print(df)"
   ]
  },
  {
   "cell_type": "markdown",
   "id": "84195eaa-2801-4240-8c54-38fe17df15b7",
   "metadata": {},
   "source": [
    "**3. Create a function that concatenates two DataFrames. Use a previously\n",
    "created function to create two DataFrames and pass them as parameters\n",
    "Make sure that the indexes are reset before returning.**"
   ]
  },
  {
   "cell_type": "code",
   "execution_count": 55,
   "id": "5ff8bf49-d376-429a-afad-6aaa38b57639",
   "metadata": {},
   "outputs": [
    {
     "name": "stdout",
     "output_type": "stream",
     "text": [
      "\n",
      "Concatenated DataFrame:\n",
      "  One Two\n",
      "0   X   A\n",
      "1   Y   B\n",
      "2   P   Q\n",
      "3   R   S\n"
     ]
    }
   ],
   "source": [
    "def concat_df(df1, df2):\n",
    "    result = pd.concat([df1, df2], ignore_index=True)\n",
    "    return result \n",
    "print(\"\\nConcatenated DataFrame:\")\n",
    "df2 = create_dataframe([\"One\", \"Two\"], [[\"P\", \"Q\"], [\"R\", \"S\"]])\n",
    "concatenated = concat_df(df, df2)\n",
    "print(concatenated)"
   ]
  },
  {
   "cell_type": "markdown",
   "id": "32d3c488-f922-4857-ad09-06c34199d55d",
   "metadata": {},
   "source": [
    "**4. Write code to load data from cars.csv into a dataframe and print its details.\n",
    "Details like: 'count', 'mean', 'std', 'min', '25%', '50%', '75%', 'max'.**\n"
   ]
  },
  {
   "cell_type": "code",
   "execution_count": 58,
   "id": "ea1136a9-eeb2-4763-9745-ba6914d120f7",
   "metadata": {},
   "outputs": [
    {
     "data": {
      "text/html": [
       "<div>\n",
       "<style scoped>\n",
       "    .dataframe tbody tr th:only-of-type {\n",
       "        vertical-align: middle;\n",
       "    }\n",
       "\n",
       "    .dataframe tbody tr th {\n",
       "        vertical-align: top;\n",
       "    }\n",
       "\n",
       "    .dataframe thead th {\n",
       "        text-align: right;\n",
       "    }\n",
       "</style>\n",
       "<table border=\"1\" class=\"dataframe\">\n",
       "  <thead>\n",
       "    <tr style=\"text-align: right;\">\n",
       "      <th></th>\n",
       "      <th>S.No</th>\n",
       "      <th>mpg</th>\n",
       "      <th>cyl</th>\n",
       "      <th>disp</th>\n",
       "      <th>hp</th>\n",
       "      <th>drat</th>\n",
       "      <th>wt</th>\n",
       "      <th>qsec</th>\n",
       "      <th>vs</th>\n",
       "      <th>am</th>\n",
       "      <th>gear</th>\n",
       "      <th>carb</th>\n",
       "    </tr>\n",
       "  </thead>\n",
       "  <tbody>\n",
       "    <tr>\n",
       "      <th>count</th>\n",
       "      <td>32.000000</td>\n",
       "      <td>32.000000</td>\n",
       "      <td>32.000000</td>\n",
       "      <td>32.000000</td>\n",
       "      <td>32.000000</td>\n",
       "      <td>32.000000</td>\n",
       "      <td>32.000000</td>\n",
       "      <td>29.000000</td>\n",
       "      <td>32.000000</td>\n",
       "      <td>32.000000</td>\n",
       "      <td>32.000000</td>\n",
       "      <td>32.0000</td>\n",
       "    </tr>\n",
       "    <tr>\n",
       "      <th>mean</th>\n",
       "      <td>16.500000</td>\n",
       "      <td>20.090625</td>\n",
       "      <td>6.187500</td>\n",
       "      <td>230.721875</td>\n",
       "      <td>146.687500</td>\n",
       "      <td>3.596563</td>\n",
       "      <td>3.217250</td>\n",
       "      <td>17.674828</td>\n",
       "      <td>0.437500</td>\n",
       "      <td>0.406250</td>\n",
       "      <td>3.687500</td>\n",
       "      <td>2.8125</td>\n",
       "    </tr>\n",
       "    <tr>\n",
       "      <th>std</th>\n",
       "      <td>9.380832</td>\n",
       "      <td>6.026948</td>\n",
       "      <td>1.785922</td>\n",
       "      <td>123.938694</td>\n",
       "      <td>68.562868</td>\n",
       "      <td>0.534679</td>\n",
       "      <td>0.978457</td>\n",
       "      <td>1.780394</td>\n",
       "      <td>0.504016</td>\n",
       "      <td>0.498991</td>\n",
       "      <td>0.737804</td>\n",
       "      <td>1.6152</td>\n",
       "    </tr>\n",
       "    <tr>\n",
       "      <th>min</th>\n",
       "      <td>1.000000</td>\n",
       "      <td>10.400000</td>\n",
       "      <td>4.000000</td>\n",
       "      <td>71.100000</td>\n",
       "      <td>52.000000</td>\n",
       "      <td>2.760000</td>\n",
       "      <td>1.513000</td>\n",
       "      <td>14.500000</td>\n",
       "      <td>0.000000</td>\n",
       "      <td>0.000000</td>\n",
       "      <td>3.000000</td>\n",
       "      <td>1.0000</td>\n",
       "    </tr>\n",
       "    <tr>\n",
       "      <th>25%</th>\n",
       "      <td>8.750000</td>\n",
       "      <td>15.425000</td>\n",
       "      <td>4.000000</td>\n",
       "      <td>120.825000</td>\n",
       "      <td>96.500000</td>\n",
       "      <td>3.080000</td>\n",
       "      <td>2.581250</td>\n",
       "      <td>16.870000</td>\n",
       "      <td>0.000000</td>\n",
       "      <td>0.000000</td>\n",
       "      <td>3.000000</td>\n",
       "      <td>2.0000</td>\n",
       "    </tr>\n",
       "    <tr>\n",
       "      <th>50%</th>\n",
       "      <td>16.500000</td>\n",
       "      <td>19.200000</td>\n",
       "      <td>6.000000</td>\n",
       "      <td>196.300000</td>\n",
       "      <td>123.000000</td>\n",
       "      <td>3.695000</td>\n",
       "      <td>3.325000</td>\n",
       "      <td>17.420000</td>\n",
       "      <td>0.000000</td>\n",
       "      <td>0.000000</td>\n",
       "      <td>4.000000</td>\n",
       "      <td>2.0000</td>\n",
       "    </tr>\n",
       "    <tr>\n",
       "      <th>75%</th>\n",
       "      <td>24.250000</td>\n",
       "      <td>22.800000</td>\n",
       "      <td>8.000000</td>\n",
       "      <td>326.000000</td>\n",
       "      <td>180.000000</td>\n",
       "      <td>3.920000</td>\n",
       "      <td>3.610000</td>\n",
       "      <td>18.600000</td>\n",
       "      <td>1.000000</td>\n",
       "      <td>1.000000</td>\n",
       "      <td>4.000000</td>\n",
       "      <td>4.0000</td>\n",
       "    </tr>\n",
       "    <tr>\n",
       "      <th>max</th>\n",
       "      <td>32.000000</td>\n",
       "      <td>33.900000</td>\n",
       "      <td>8.000000</td>\n",
       "      <td>472.000000</td>\n",
       "      <td>335.000000</td>\n",
       "      <td>4.930000</td>\n",
       "      <td>5.424000</td>\n",
       "      <td>22.900000</td>\n",
       "      <td>1.000000</td>\n",
       "      <td>1.000000</td>\n",
       "      <td>5.000000</td>\n",
       "      <td>8.0000</td>\n",
       "    </tr>\n",
       "  </tbody>\n",
       "</table>\n",
       "</div>"
      ],
      "text/plain": [
       "            S.No        mpg        cyl        disp          hp       drat  \\\n",
       "count  32.000000  32.000000  32.000000   32.000000   32.000000  32.000000   \n",
       "mean   16.500000  20.090625   6.187500  230.721875  146.687500   3.596563   \n",
       "std     9.380832   6.026948   1.785922  123.938694   68.562868   0.534679   \n",
       "min     1.000000  10.400000   4.000000   71.100000   52.000000   2.760000   \n",
       "25%     8.750000  15.425000   4.000000  120.825000   96.500000   3.080000   \n",
       "50%    16.500000  19.200000   6.000000  196.300000  123.000000   3.695000   \n",
       "75%    24.250000  22.800000   8.000000  326.000000  180.000000   3.920000   \n",
       "max    32.000000  33.900000   8.000000  472.000000  335.000000   4.930000   \n",
       "\n",
       "              wt       qsec         vs         am       gear     carb  \n",
       "count  32.000000  29.000000  32.000000  32.000000  32.000000  32.0000  \n",
       "mean    3.217250  17.674828   0.437500   0.406250   3.687500   2.8125  \n",
       "std     0.978457   1.780394   0.504016   0.498991   0.737804   1.6152  \n",
       "min     1.513000  14.500000   0.000000   0.000000   3.000000   1.0000  \n",
       "25%     2.581250  16.870000   0.000000   0.000000   3.000000   2.0000  \n",
       "50%     3.325000  17.420000   0.000000   0.000000   4.000000   2.0000  \n",
       "75%     3.610000  18.600000   1.000000   1.000000   4.000000   4.0000  \n",
       "max     5.424000  22.900000   1.000000   1.000000   5.000000   8.0000  "
      ]
     },
     "execution_count": 58,
     "metadata": {},
     "output_type": "execute_result"
    }
   ],
   "source": [
    "import pandas as pd\n",
    "df=pd.read_csv(r\"C:\\Users\\hp\\Downloads\\cars.csv\")\n",
    "df.describe()"
   ]
  },
  {
   "cell_type": "markdown",
   "id": "cb9808ed-a4e8-4e0e-b0d4-29e9a16f7260",
   "metadata": {},
   "source": [
    "**5. Write a method that will take a column name as argument and return the\n",
    "name of the column with which the given column has the highest\n",
    "correlation.<br>\n",
    "The data to be used is the cars dataset.<br>\n",
    "The returned value should not the column named that was passed as the\n",
    "parameters, e.g. : get_max_correlated_column('mpg') -> should return 'drat'**"
   ]
  },
  {
   "cell_type": "code",
   "execution_count": 63,
   "id": "d00dac5c-1fc0-469d-9511-7187baba5545",
   "metadata": {},
   "outputs": [
    {
     "name": "stdout",
     "output_type": "stream",
     "text": [
      "The column most highly correlated with 'mpg' is: drat\n"
     ]
    }
   ],
   "source": [
    "import pandas as pd\n",
    "df=pd.read_csv(r\"C:\\Users\\hp\\Downloads\\cars.csv\")\n",
    "def get_max_correlated_column(df, column_name):\n",
    "    correlation_matrix = df.corr(numeric_only=True)\n",
    "    correlation_with_column = correlation_matrix[column_name]\n",
    "    correlation_with_column = correlation_with_column.drop(column_name)\n",
    "    max_corr_column = correlation_with_column.idxmax()\n",
    "    return max_corr_column\n",
    "correlated_column = get_max_correlated_column(df, 'mpg')\n",
    "print(f\"The column most highly correlated with 'mpg' is: {correlated_column}\")\n"
   ]
  },
  {
   "cell_type": "code",
   "execution_count": null,
   "id": "566850d4-8986-4f04-930c-974610591ac9",
   "metadata": {},
   "outputs": [],
   "source": []
  }
 ],
 "metadata": {
  "kernelspec": {
   "display_name": "Python 3 (ipykernel)",
   "language": "python",
   "name": "python3"
  },
  "language_info": {
   "codemirror_mode": {
    "name": "ipython",
    "version": 3
   },
   "file_extension": ".py",
   "mimetype": "text/x-python",
   "name": "python",
   "nbconvert_exporter": "python",
   "pygments_lexer": "ipython3",
   "version": "3.12.7"
  }
 },
 "nbformat": 4,
 "nbformat_minor": 5
}
