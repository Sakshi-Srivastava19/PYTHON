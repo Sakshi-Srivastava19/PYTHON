{
 "cells": [
  {
   "cell_type": "code",
   "execution_count": 5,
   "id": "67f536dd-ec2c-4917-8ed2-2e8c35d187a3",
   "metadata": {},
   "outputs": [
    {
     "name": "stdout",
     "output_type": "stream",
     "text": [
      "x greater than 5\n",
      "srv\n"
     ]
    }
   ],
   "source": [
    "x=10\n",
    "if(x>5):\n",
    "    print(\"x greater than 5\")\n",
    "    if(x>10):\n",
    "        print(\"saks\")\n",
    "    else:\n",
    "        print(\"srv\")"
   ]
  },
  {
   "cell_type": "code",
   "execution_count": 7,
   "id": "6ee2da47-d847-4d93-9c22-76378247e99a",
   "metadata": {},
   "outputs": [
    {
     "name": "stdout",
     "output_type": "stream",
     "text": [
      "x greater than 5\n"
     ]
    }
   ],
   "source": [
    "x=10\n",
    "if(x>5):\n",
    "    print(\"x greater than 5\")\n",
    "if(x>10):\n",
    "        print(\"saks\")\n",
    "    #else:\n",
    "print(\"srv\")"
   ]
  },
  {
   "cell_type": "code",
   "execution_count": 11,
   "id": "646c29f1-4edc-494a-9866-4175872b2eda",
   "metadata": {},
   "outputs": [
    {
     "name": "stdout",
     "output_type": "stream",
     "text": [
      "srv\n"
     ]
    }
   ],
   "source": [
    "x=10\n",
    "if(x>15):\n",
    "    print(\"x greater than 5\")\n",
    "if(x>10):\n",
    "        print(\"saks\")\n",
    "    #else:\n",
    "print(\"srv\")"
   ]
  },
  {
   "cell_type": "markdown",
   "id": "04cb778a-8ce9-41fb-83af-7fe3c6456b02",
   "metadata": {},
   "source": [
    "# Appending, Extending, slicing,sorting,reversing,removing"
   ]
  },
  {
   "cell_type": "code",
   "execution_count": 16,
   "id": "14bed8c7-c5d6-40aa-b802-2665a251374b",
   "metadata": {},
   "outputs": [
    {
     "name": "stdout",
     "output_type": "stream",
     "text": [
      "appended ['apple', 'banana', 'orange']\n",
      "extended ['apple', 'banana', 'orange', 'pineapple', 'kiwi']\n",
      "['apple', 'banana', 'kiwi', 'orange', 'pineapple']\n",
      "cart without kiwi: ['apple', 'banana', 'orange', 'pineapple']\n"
     ]
    }
   ],
   "source": [
    "cart=[\"apple\",\"banana\"]\n",
    "cart.append(\"orange\")\n",
    "print(\"appended\",cart)\n",
    "cart.extend([\"pineapple\",\"kiwi\"])\n",
    "print(\"extended\",cart)\n",
    "print(sorted(cart))\n",
    "cart.remove(\"kiwi\")\n",
    "print(\"cart without kiwi:\",cart)"
   ]
  },
  {
   "cell_type": "code",
   "execution_count": 16,
   "id": "d5eb5373-9291-47d9-9a9d-a6f8f1939c48",
   "metadata": {},
   "outputs": [
    {
     "name": "stdout",
     "output_type": "stream",
     "text": [
      "sorted [0, 4, 8, 9, 55, 984]\n"
     ]
    }
   ],
   "source": [
    "numbers=[4,8,9,55,0,984]\n",
    "a=sorted(numbers)\n",
    "print(\"sorted\",a)"
   ]
  },
  {
   "cell_type": "code",
   "execution_count": 21,
   "id": "f877e08c-e1d8-49d4-86ae-466e36a12b43",
   "metadata": {},
   "outputs": [],
   "source": [
    "x=numbers.reverse()\n",
    "print(x)"
   ]
  },
  {
   "cell_type": "code",
   "execution_count": 23,
   "id": "0c6e3d5a-b1d5-4d2e-9e49-90edaa44ae09",
   "metadata": {},
   "outputs": [
    {
     "data": {
      "text/plain": [
       "[600, 300, 900]"
      ]
     },
     "execution_count": 23,
     "metadata": {},
     "output_type": "execute_result"
    }
   ],
   "source": [
    "transaction=[100,400,600,300,900]\n",
    "transaction[-3:]"
   ]
  },
  {
   "cell_type": "markdown",
   "id": "4e175323-2632-4967-bfdd-91c4425cdbb4",
   "metadata": {},
   "source": [
    "*filtering*"
   ]
  },
  {
   "cell_type": "code",
   "execution_count": 90,
   "id": "463ca98b-5bae-40c5-9719-6c936ac16a1d",
   "metadata": {},
   "outputs": [
    {
     "data": {
      "text/plain": [
       "[400, 600, 900]"
      ]
     },
     "execution_count": 90,
     "metadata": {},
     "output_type": "execute_result"
    }
   ],
   "source": [
    "transaction=[100,400,600,300,900]\n",
    "high_val=[t for t in transaction if t>300]\n",
    "high_val"
   ]
  },
  {
   "cell_type": "markdown",
   "id": "0cb69333-a4bd-4b46-906e-3115ae37bda5",
   "metadata": {},
   "source": [
    "*mapping*"
   ]
  },
  {
   "cell_type": "code",
   "execution_count": 95,
   "id": "ae7f5772-c8fa-43f6-b9c7-20012c7eaf70",
   "metadata": {},
   "outputs": [
    {
     "data": {
      "text/plain": [
       "[90.0, 360.0, 540.0, 270.0, 810.0]"
      ]
     },
     "execution_count": 95,
     "metadata": {},
     "output_type": "execute_result"
    }
   ],
   "source": [
    "transaction=[100,400,600,300,900]\n",
    "h=list(map(lambda x:x*0.9,transaction))\n",
    "h"
   ]
  },
  {
   "cell_type": "code",
   "execution_count": 24,
   "id": "32be0b8a-15e1-4b2f-9f52-c23abda699b9",
   "metadata": {},
   "outputs": [
    {
     "name": "stdout",
     "output_type": "stream",
     "text": [
      "original sets {400, 100, 900, 600, 300}\n",
      "modified sets {400, 100, 900, 600, 987, 300}\n"
     ]
    },
    {
     "data": {
      "text/plain": [
       "{100, 300, 400, 600, 900, 987}"
      ]
     },
     "execution_count": 24,
     "metadata": {},
     "output_type": "execute_result"
    }
   ],
   "source": [
    "SETS={100,400,600,300,900}\n",
    "print(\"original sets\",SETS)\n",
    "SETS.add(987)\n",
    "print(\"modified sets\",SETS)\n",
    "SETS"
   ]
  },
  {
   "cell_type": "code",
   "execution_count": 28,
   "id": "b361078f-f24b-4725-b245-f7e0ef098abe",
   "metadata": {},
   "outputs": [
    {
     "name": "stdout",
     "output_type": "stream",
     "text": [
      "union {1, 2, 3, 4, 5, 6, 7, 8, 9}\n",
      "intersection {5}\n",
      "difference {1, 2, 3, 4, 5, 6, 7, 8, 9}\n"
     ]
    }
   ],
   "source": [
    "set1={1,2,3,4,5}\n",
    "set2={5,6,7,8,9}\n",
    "print(\"union\",set1|set2)\n",
    "print(\"intersection\",set1&set2)\n",
    "print(\"difference\",set1|set2)"
   ]
  },
  {
   "cell_type": "markdown",
   "id": "293a3916-3b6d-4b83-b539-6022f1e8d1a6",
   "metadata": {},
   "source": [
    "**DICTIONARY**"
   ]
  },
  {
   "cell_type": "code",
   "execution_count": 31,
   "id": "caa7f992-ce40-4716-8e1f-7e2ea5a1588b",
   "metadata": {},
   "outputs": [],
   "source": [
    "sales={\"jan\":20000,\"feb\":60000}\n",
    "print(\"original dict\",sales)\n",
    "sales[\"mar\"]=50000\n",
    "print(\"updatefddict\",sales)\n",
    "getsales=sales.get('feb',0)"
   ]
  },
  {
   "cell_type": "code",
   "execution_count": 30,
   "id": "deb57315-eb62-4527-87fb-19877b72a591",
   "metadata": {},
   "outputs": [
    {
     "name": "stdout",
     "output_type": "stream",
     "text": [
      "jan: $20000\n",
      "feb: $60000\n"
     ]
    }
   ],
   "source": [
    "sales={\"jan\":20000,\"feb\":60000}\n",
    "for m,r in sales.items():\n",
    "    print(f'{m}: ${r}')"
   ]
  },
  {
   "cell_type": "code",
   "execution_count": 46,
   "id": "ed1fda83-d375-4207-8995-09b742f264df",
   "metadata": {},
   "outputs": [
    {
     "name": "stdout",
     "output_type": "stream",
     "text": [
      "all keys dict_keys(['jan', 'feb'])\n",
      "all value dict_values([20000, 60000])\n",
      "key-val pair dict_items([('jan', 20000), ('feb', 60000)])\n"
     ]
    }
   ],
   "source": [
    "sales={\"jan\":20000,\"feb\":60000}\n",
    "print(\"all keys\",sales.keys())\n",
    "print(\"all value\",sales.values())\n",
    "print('key-val pair',sales.items())"
   ]
  },
  {
   "cell_type": "code",
   "execution_count": 39,
   "id": "6de4d879-8689-45a7-8ac6-f35279af5b5b",
   "metadata": {},
   "outputs": [
    {
     "data": {
      "text/plain": [
       "[9.0, 18.0, 27.0]"
      ]
     },
     "execution_count": 39,
     "metadata": {},
     "output_type": "execute_result"
    }
   ],
   "source": [
    "prices=[10,20,30]\n",
    "discount=list(map(lambda x:x*0.9,prices))\n",
    "discount"
   ]
  },
  {
   "cell_type": "markdown",
   "id": "5edcc686-6ba4-4722-9566-b2e947182245",
   "metadata": {},
   "source": [
    "# REGULAR EXPRESSION"
   ]
  },
  {
   "cell_type": "code",
   "execution_count": 36,
   "id": "f5948230-8693-47bb-93be-33bc7b55594b",
   "metadata": {},
   "outputs": [
    {
     "data": {
      "text/plain": [
       "[]"
      ]
     },
     "execution_count": 36,
     "metadata": {},
     "output_type": "execute_result"
    }
   ],
   "source": [
    "import re\n",
    "em=re.findall(r'\\b[A-Za-z0-9._%+-]+@[A-Za-z0-9._%+-]\\b',\"sakshi@gmail.com\")\n",
    "em"
   ]
  },
  {
   "cell_type": "markdown",
   "id": "4f64716f-2113-4bda-b9e6-c369fa007643",
   "metadata": {},
   "source": [
    "# FUNCTION"
   ]
  },
  {
   "cell_type": "code",
   "execution_count": 54,
   "id": "7dd144fd-5bf2-4fcc-b907-ff91d942a7ca",
   "metadata": {},
   "outputs": [
    {
     "name": "stdin",
     "output_type": "stream",
     "text": [
      "enter name sakshi\n"
     ]
    },
    {
     "data": {
      "text/plain": [
       "'Hello!sakshi'"
      ]
     },
     "execution_count": 54,
     "metadata": {},
     "output_type": "execute_result"
    }
   ],
   "source": [
    "def greet(name):\n",
    "    return f'Hello!{name}'\n",
    "name=input('enter name')\n",
    "greet(name)"
   ]
  },
  {
   "cell_type": "code",
   "execution_count": 58,
   "id": "42ff133c-0052-4443-9501-1cbb29365804",
   "metadata": {},
   "outputs": [
    {
     "name": "stdout",
     "output_type": "stream",
     "text": [
      "result1 3\n",
      "result2 161\n",
      "result3 137\n"
     ]
    }
   ],
   "source": [
    "def add_num(*args):\n",
    "    return sum(args)\n",
    "print('result1',add_num(1,2))\n",
    "print('result2',add_num(11,52,98))\n",
    "print('result3',add_num(19,28,90))"
   ]
  },
  {
   "cell_type": "code",
   "execution_count": 62,
   "id": "fc570e6f-db44-4c62-a252-63082042f305",
   "metadata": {},
   "outputs": [
    {
     "name": "stdout",
     "output_type": "stream",
     "text": [
      "result1 3\n",
      "result2 161\n",
      "result3 137\n"
     ]
    }
   ],
   "source": [
    "def add_num(*args):\n",
    "    return sum(args)\n",
    "print('result1',add_num(1,2))\n",
    "print('result2',add_num(11,52,98))\n",
    "print('result3',add_num(19,28,90))"
   ]
  },
  {
   "cell_type": "code",
   "execution_count": 66,
   "id": "3ed164c2-6cba-48e0-89ab-52867bd4099f",
   "metadata": {},
   "outputs": [
    {
     "name": "stdout",
     "output_type": "stream",
     "text": [
      "10\n",
      "30\n",
      "a 1\n",
      "b 2\n",
      "c 3\n"
     ]
    }
   ],
   "source": [
    "\n",
    "def fun(*args):\n",
    "    return sum(args)\n",
    "\n",
    "print(fun(1, 2, 3, 4)) \n",
    "print(fun(5, 10, 15))   \n",
    "\n",
    "def fun(**kwargs):\n",
    "    for k, val in kwargs.items():\n",
    "        print(k, val)\n",
    "\n",
    "fun(a=1, b=2, c=3)\n"
   ]
  },
  {
   "cell_type": "code",
   "execution_count": 70,
   "id": "61e4fadc-9160-46c4-b11d-785953731987",
   "metadata": {},
   "outputs": [
    {
     "name": "stdout",
     "output_type": "stream",
     "text": [
      "(44, 90, 64.4)\n"
     ]
    }
   ],
   "source": [
    "def get_stats(num):\n",
    "    return min(num),max(num),sum(num)/len(num)\n",
    "print(get_stats([90,78,65,45,44]))"
   ]
  },
  {
   "cell_type": "markdown",
   "id": "dd4b7a5a-fa06-4d10-b276-9d10101e7afc",
   "metadata": {},
   "source": [
    "# LAMBDA"
   ]
  },
  {
   "cell_type": "code",
   "execution_count": 81,
   "id": "32a626d3-2476-42b0-97fa-59a2b01472a2",
   "metadata": {},
   "outputs": [
    {
     "name": "stdout",
     "output_type": "stream",
     "text": [
      "25\n"
     ]
    }
   ],
   "source": [
    "a=lambda x:x*x\n",
    "print(a(5))"
   ]
  },
  {
   "cell_type": "code",
   "execution_count": 79,
   "id": "457e7bbd-2cd7-4c0c-ac50-0f341182ab9a",
   "metadata": {},
   "outputs": [
    {
     "data": {
      "text/plain": [
       "[100, 400, 900, 1600, 2500]"
      ]
     },
     "execution_count": 79,
     "metadata": {},
     "output_type": "execute_result"
    }
   ],
   "source": [
    "num=[10,20,30,40,50]\n",
    "sq=list(map(lambda x:x*x,num))\n",
    "sq"
   ]
  },
  {
   "cell_type": "markdown",
   "id": "c29efb43-cee1-4b57-9ceb-45a2111fac8c",
   "metadata": {},
   "source": [
    "# EXCEPTION HANDLING"
   ]
  },
  {
   "cell_type": "code",
   "execution_count": 86,
   "id": "e1d2f119-a4ef-4bc0-8908-00ea89421714",
   "metadata": {},
   "outputs": [
    {
     "name": "stdout",
     "output_type": "stream",
     "text": [
      "Error: Denominator cannot be 0.\n"
     ]
    }
   ],
   "source": [
    "try:\n",
    "    numerator = 10\n",
    "    denominator = 0\n",
    "\n",
    "    result = numerator/denominator\n",
    "\n",
    "    print(result)\n",
    "except:\n",
    "    print(\"Error: Denominator cannot be 0.\")\n",
    " "
   ]
  },
  {
   "cell_type": "code",
   "execution_count": null,
   "id": "27e54d16-8a53-4ca5-9f07-f3731e92d6ef",
   "metadata": {},
   "outputs": [],
   "source": []
  }
 ],
 "metadata": {
  "kernelspec": {
   "display_name": "Python 3 (ipykernel)",
   "language": "python",
   "name": "python3"
  },
  "language_info": {
   "codemirror_mode": {
    "name": "ipython",
    "version": 3
   },
   "file_extension": ".py",
   "mimetype": "text/x-python",
   "name": "python",
   "nbconvert_exporter": "python",
   "pygments_lexer": "ipython3",
   "version": "3.12.7"
  }
 },
 "nbformat": 4,
 "nbformat_minor": 5
}
