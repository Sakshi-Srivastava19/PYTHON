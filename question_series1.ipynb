{
 "cells": [
  {
   "cell_type": "markdown",
   "id": "64f4e705-7f45-452e-8239-736ff6178435",
   "metadata": {},
   "source": [
    "**SWAPPING OF TWO NUMBERS**"
   ]
  },
  {
   "cell_type": "code",
   "execution_count": 2,
   "id": "3eba2b99-33ca-423a-a11e-880db3c780d9",
   "metadata": {},
   "outputs": [
    {
     "name": "stdin",
     "output_type": "stream",
     "text": [
      "Enter value of a 34\n",
      "Enter value of b 67\n"
     ]
    },
    {
     "name": "stdout",
     "output_type": "stream",
     "text": [
      "before swapping: a=34 and b=67\n",
      "after swapping: a=67 and b=34\n"
     ]
    }
   ],
   "source": [
    "a=int(input(\"Enter value of a\"))\n",
    "b=int(input(\"Enter value of b\"))\n",
    "print(f'before swapping: a={a} and b={b}')\n",
    "c=a\n",
    "a=b\n",
    "b=c\n",
    "print(f'after swapping: a={a} and b={b}')"
   ]
  },
  {
   "cell_type": "code",
   "execution_count": 3,
   "id": "5c557e4b-b051-4df1-b75a-37d436561301",
   "metadata": {},
   "outputs": [
    {
     "name": "stdin",
     "output_type": "stream",
     "text": [
      "Enter value of a 1\n",
      "Enter value of b 2\n"
     ]
    },
    {
     "name": "stdout",
     "output_type": "stream",
     "text": [
      "before swapping: a=1 and b=2\n",
      "after swapping: a=2 and b=1\n"
     ]
    }
   ],
   "source": [
    "a=int(input(\"Enter value of a\"))\n",
    "b=int(input(\"Enter value of b\"))\n",
    "print(f'before swapping: a={a} and b={b}')\n",
    "a,b=b,a\n",
    "print(f'after swapping: a={a} and b={b}')"
   ]
  },
  {
   "cell_type": "markdown",
   "id": "37ad7042-0b17-4e40-84cb-6036f011478d",
   "metadata": {},
   "source": [
    "**PRINT A CALENDAR**"
   ]
  },
  {
   "cell_type": "code",
   "execution_count": 5,
   "id": "743c37ea-69ac-4088-b5cd-261f8e3c046d",
   "metadata": {},
   "outputs": [
    {
     "name": "stdin",
     "output_type": "stream",
     "text": [
      "Enter year:  2025\n",
      "Enter month:  11\n"
     ]
    },
    {
     "name": "stdout",
     "output_type": "stream",
     "text": [
      "\n",
      "   November 2025\n",
      "Mo Tu We Th Fr Sa Su\n",
      "                1  2\n",
      " 3  4  5  6  7  8  9\n",
      "10 11 12 13 14 15 16\n",
      "17 18 19 20 21 22 23\n",
      "24 25 26 27 28 29 30\n",
      "\n"
     ]
    }
   ],
   "source": [
    "import calendar as cal\n",
    "year=int(input(\"Enter year: \"))\n",
    "month=int(input(\"Enter month: \"))\n",
    "c=cal.month(year,month)\n",
    "print()\n",
    "print(c)"
   ]
  },
  {
   "cell_type": "code",
   "execution_count": 6,
   "id": "cfce89bb-8b78-421c-ab5f-96575a7137bb",
   "metadata": {},
   "outputs": [
    {
     "name": "stdin",
     "output_type": "stream",
     "text": [
      "Enter year:  2025\n"
     ]
    },
    {
     "name": "stdout",
     "output_type": "stream",
     "text": [
      "    January 2025\n",
      "Mo Tu We Th Fr Sa Su\n",
      "       1  2  3  4  5\n",
      " 6  7  8  9 10 11 12\n",
      "13 14 15 16 17 18 19\n",
      "20 21 22 23 24 25 26\n",
      "27 28 29 30 31\n",
      "\n",
      "   February 2025\n",
      "Mo Tu We Th Fr Sa Su\n",
      "                1  2\n",
      " 3  4  5  6  7  8  9\n",
      "10 11 12 13 14 15 16\n",
      "17 18 19 20 21 22 23\n",
      "24 25 26 27 28\n",
      "\n",
      "     March 2025\n",
      "Mo Tu We Th Fr Sa Su\n",
      "                1  2\n",
      " 3  4  5  6  7  8  9\n",
      "10 11 12 13 14 15 16\n",
      "17 18 19 20 21 22 23\n",
      "24 25 26 27 28 29 30\n",
      "31\n",
      "\n",
      "     April 2025\n",
      "Mo Tu We Th Fr Sa Su\n",
      "    1  2  3  4  5  6\n",
      " 7  8  9 10 11 12 13\n",
      "14 15 16 17 18 19 20\n",
      "21 22 23 24 25 26 27\n",
      "28 29 30\n",
      "\n",
      "      May 2025\n",
      "Mo Tu We Th Fr Sa Su\n",
      "          1  2  3  4\n",
      " 5  6  7  8  9 10 11\n",
      "12 13 14 15 16 17 18\n",
      "19 20 21 22 23 24 25\n",
      "26 27 28 29 30 31\n",
      "\n",
      "     June 2025\n",
      "Mo Tu We Th Fr Sa Su\n",
      "                   1\n",
      " 2  3  4  5  6  7  8\n",
      " 9 10 11 12 13 14 15\n",
      "16 17 18 19 20 21 22\n",
      "23 24 25 26 27 28 29\n",
      "30\n",
      "\n",
      "     July 2025\n",
      "Mo Tu We Th Fr Sa Su\n",
      "    1  2  3  4  5  6\n",
      " 7  8  9 10 11 12 13\n",
      "14 15 16 17 18 19 20\n",
      "21 22 23 24 25 26 27\n",
      "28 29 30 31\n",
      "\n",
      "    August 2025\n",
      "Mo Tu We Th Fr Sa Su\n",
      "             1  2  3\n",
      " 4  5  6  7  8  9 10\n",
      "11 12 13 14 15 16 17\n",
      "18 19 20 21 22 23 24\n",
      "25 26 27 28 29 30 31\n",
      "\n",
      "   September 2025\n",
      "Mo Tu We Th Fr Sa Su\n",
      " 1  2  3  4  5  6  7\n",
      " 8  9 10 11 12 13 14\n",
      "15 16 17 18 19 20 21\n",
      "22 23 24 25 26 27 28\n",
      "29 30\n",
      "\n",
      "    October 2025\n",
      "Mo Tu We Th Fr Sa Su\n",
      "       1  2  3  4  5\n",
      " 6  7  8  9 10 11 12\n",
      "13 14 15 16 17 18 19\n",
      "20 21 22 23 24 25 26\n",
      "27 28 29 30 31\n",
      "\n",
      "   November 2025\n",
      "Mo Tu We Th Fr Sa Su\n",
      "                1  2\n",
      " 3  4  5  6  7  8  9\n",
      "10 11 12 13 14 15 16\n",
      "17 18 19 20 21 22 23\n",
      "24 25 26 27 28 29 30\n",
      "\n",
      "   December 2025\n",
      "Mo Tu We Th Fr Sa Su\n",
      " 1  2  3  4  5  6  7\n",
      " 8  9 10 11 12 13 14\n",
      "15 16 17 18 19 20 21\n",
      "22 23 24 25 26 27 28\n",
      "29 30 31\n",
      "\n"
     ]
    }
   ],
   "source": [
    "import calendar as cal\n",
    "year=int(input(\"Enter year: \"))\n",
    "for i in range(1,13):\n",
    " month=i\n",
    " c=cal.month(year,i)\n",
    " print(c)"
   ]
  },
  {
   "cell_type": "markdown",
   "id": "4c4a9343-8590-4b1c-b975-977b000d9eee",
   "metadata": {},
   "source": [
    "**GENERATE RANDOM NUMBER**"
   ]
  },
  {
   "cell_type": "code",
   "execution_count": 8,
   "id": "1c515cf5-15a9-436c-ad2b-aa8adcb543d5",
   "metadata": {},
   "outputs": [
    {
     "name": "stdout",
     "output_type": "stream",
     "text": [
      "Randm number: 371\n"
     ]
    }
   ],
   "source": [
    "import random as r\n",
    "print(\"Randm number:\",r.randint(1,569))"
   ]
  },
  {
   "cell_type": "markdown",
   "id": "f6897d3d-27f2-495f-a953-ce98164348d9",
   "metadata": {},
   "source": [
    "**PRIME NUMBER**"
   ]
  },
  {
   "cell_type": "code",
   "execution_count": 10,
   "id": "e8e982a0-920a-40b6-8936-4b98054a8128",
   "metadata": {},
   "outputs": [
    {
     "name": "stdin",
     "output_type": "stream",
     "text": [
      "Enter a number:  2\n"
     ]
    },
    {
     "name": "stdout",
     "output_type": "stream",
     "text": [
      "2 is a prime number.\n"
     ]
    }
   ],
   "source": [
    "def is_prime(n):\n",
    "    if n <= 1:\n",
    "        return False\n",
    "    for i in range(2, int(n**0.5) + 1):\n",
    "        if n % i == 0:\n",
    "            return False\n",
    "    return True\n",
    "num = int(input(\"Enter a number: \"))\n",
    "if is_prime(num):\n",
    "    print(f\"{num} is a prime number.\")\n",
    "else:\n",
    "    print(f\"{num} is not a prime number.\")\n"
   ]
  },
  {
   "cell_type": "markdown",
   "id": "3b8491f1-71cf-4ea4-a559-70849e087315",
   "metadata": {},
   "source": [
    "**PRIME NO IN A RANGE**"
   ]
  },
  {
   "cell_type": "code",
   "execution_count": 12,
   "id": "589c7c5b-e3c0-4680-81e0-aab535aca6be",
   "metadata": {},
   "outputs": [
    {
     "name": "stdin",
     "output_type": "stream",
     "text": [
      "enter starting number 2\n",
      "enter ending number 39\n"
     ]
    },
    {
     "name": "stdout",
     "output_type": "stream",
     "text": [
      "Prime numbers between 2 and 39 are: [2, 3, 5, 7, 11, 13, 17, 19, 23, 29, 31, 37]\n"
     ]
    }
   ],
   "source": [
    "def check_prime(num):\n",
    "    if num <= 1:\n",
    "        return False\n",
    "    for i in range(2, int(num ** 0.5) + 1):  # Check divisibility up to the square root of the number\n",
    "        if num % i == 0:\n",
    "            return False\n",
    "    return True\n",
    "\n",
    "def prime_range(start, end):\n",
    "    primes = []\n",
    "    for num in range(start, end + 1):\n",
    "        if check_prime(num):\n",
    "            primes.append(num)\n",
    "    return primes\n",
    "\n",
    "start = int(input(\"enter starting number\"))\n",
    "end = int(input(\"enter ending number\"))\n",
    "result = prime_range(start, end)\n",
    "\n",
    "print(f\"Prime numbers between {start} and {end} are: {result}\")\n"
   ]
  },
  {
   "cell_type": "markdown",
   "id": "ef5a11ba-c34d-4ee4-a60d-49f3a523007c",
   "metadata": {},
   "source": [
    "**FACTORIAL OF NUMBER**"
   ]
  },
  {
   "cell_type": "code",
   "execution_count": 14,
   "id": "c5addb31-dea7-4c5e-9353-1fb88df62074",
   "metadata": {},
   "outputs": [
    {
     "name": "stdin",
     "output_type": "stream",
     "text": [
      "enter a number 6\n"
     ]
    },
    {
     "name": "stdout",
     "output_type": "stream",
     "text": [
      "The factorial of 6 is 720\n"
     ]
    }
   ],
   "source": [
    "def factorial(n):\n",
    "    if n == 0 or n == 1:\n",
    "        return 1\n",
    "    else:\n",
    "        return n * factorial(n - 1)\n",
    "\n",
    "n =int(input(\"enter a number\"))\n",
    "result = factorial(n)\n",
    "\n",
    "print(f\"The factorial of {n} is {result}\")\n"
   ]
  },
  {
   "cell_type": "markdown",
   "id": "f4b64031-d6f0-4655-80ed-7e6d9cca985f",
   "metadata": {},
   "source": [
    "**FIBONACCI SERIES**"
   ]
  },
  {
   "cell_type": "code",
   "execution_count": 33,
   "id": "1076fc55-169a-4a27-95d6-5407a4ab28be",
   "metadata": {},
   "outputs": [
    {
     "name": "stdin",
     "output_type": "stream",
     "text": [
      "enter no of terms 8\n"
     ]
    },
    {
     "name": "stdout",
     "output_type": "stream",
     "text": [
      "Fibonacci series:\n",
      "0 1 1 2 3 5 8 13 "
     ]
    }
   ],
   "source": [
    "n_terms=int(input(\"enter no of terms\"))\n",
    "n1,n2=0,1\n",
    "c=0\n",
    "if n_terms<=0:\n",
    "    print(\"Please enter a positive integer\")\n",
    "elif n_terms==1:\n",
    "    print(\"Fibonacci series upto\",n_terms,\":\")\n",
    "    print(n1)\n",
    "else:\n",
    "    print(\"Fibonacci series:\")\n",
    "    while c<n_terms:\n",
    "        print(n1,end=\" \")\n",
    "        nth=n1+n2\n",
    "        n1=n2\n",
    "        n2=nth\n",
    "        c+=1"
   ]
  },
  {
   "cell_type": "code",
   "execution_count": 17,
   "id": "43629d4e-fe31-4200-a300-4c69e269648e",
   "metadata": {},
   "outputs": [
    {
     "name": "stdin",
     "output_type": "stream",
     "text": [
      "enter no 371\n"
     ]
    },
    {
     "name": "stdout",
     "output_type": "stream",
     "text": [
      "371 is an Armstrong number\n"
     ]
    }
   ],
   "source": [
    "def chck_armstrong(num):\n",
    "    digits = str(num)\n",
    "    num_digits = len(digits)\n",
    "    sum_of= sum(int(digit) ** num_digits for digit in digits)\n",
    "    return sum_of== num\n",
    "\n",
    "# Example usage\n",
    "num =int(input(\"enter no\"))\n",
    "if chck_armstrong(num):\n",
    "    print(f\"{num} is an Armstrong number\")\n",
    "else:\n",
    "    print(f\"{num} is not an Armstrong number\")\n"
   ]
  },
  {
   "cell_type": "markdown",
   "id": "c2a0f9ad-e862-45da-a1b1-c6e1dad51239",
   "metadata": {},
   "source": [
    "**STRONG NUMBER**\n",
    "A Strong number (also called Factorial Sum number) is a number for which the sum of the factorials of its digits is equal to the number itself."
   ]
  },
  {
   "cell_type": "code",
   "execution_count": 19,
   "id": "ac47aa41-017f-4022-aa56-eb55185781d8",
   "metadata": {},
   "outputs": [
    {
     "name": "stdin",
     "output_type": "stream",
     "text": [
      "enter no 145\n"
     ]
    },
    {
     "name": "stdout",
     "output_type": "stream",
     "text": [
      "145 is a Strong number\n"
     ]
    }
   ],
   "source": [
    "def factorial(n):\n",
    "    fact=1\n",
    "    for i in range(1,n+1):\n",
    "        fact=fact*i\n",
    "    return fact\n",
    "def strong_num(num):\n",
    " a=num\n",
    " sum1=0\n",
    " while num>0:\n",
    "    d=num%10\n",
    "    sum1=sum1+factorial(d)\n",
    "    num=num//10\n",
    " return sum1==a  \n",
    "num =int(input(\"enter no\"))\n",
    "if strong_num(num):\n",
    "    print(f\"{num} is a Strong number\")\n",
    "else:\n",
    "    print(f\"{num} is not a Strong number\")"
   ]
  },
  {
   "cell_type": "code",
   "execution_count": null,
   "id": "8b64293c-20aa-4e6b-9d89-c80fc560e655",
   "metadata": {},
   "outputs": [],
   "source": []
  },
  {
   "cell_type": "code",
   "execution_count": null,
   "id": "d0616f3b-2d3d-449b-adef-65f2582823e3",
   "metadata": {},
   "outputs": [],
   "source": []
  }
 ],
 "metadata": {
  "kernelspec": {
   "display_name": "Python 3 (ipykernel)",
   "language": "python",
   "name": "python3"
  },
  "language_info": {
   "codemirror_mode": {
    "name": "ipython",
    "version": 3
   },
   "file_extension": ".py",
   "mimetype": "text/x-python",
   "name": "python",
   "nbconvert_exporter": "python",
   "pygments_lexer": "ipython3",
   "version": "3.12.7"
  }
 },
 "nbformat": 4,
 "nbformat_minor": 5
}
