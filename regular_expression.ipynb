{
 "cells": [
  {
   "cell_type": "markdown",
   "id": "f8f274b4-bf5d-4216-8845-f381bb943e57",
   "metadata": {},
   "source": [
    "# swapping salary\n",
    "**1.A company has hired two employees, Alice and Bob. The company wants to swap the salaries of both employees. \n",
    "Alice's salary is an integer value and Bob's salary is a floating-point value.<br>\n",
    "Write a Python program to swap their salaries and print the new salary of each employee. <br>  \n",
    "Input Format <br>\n",
    "The first line of input consists of an integer N, representing Alice's salary. <br> \n",
    "The second line consists of a float value F, representing Bob's salary. <br><br>\n",
    "Output Format   <br>\n",
    "The first line of output displays \"Initial salaries:\"  <br>\n",
    "The second line displays \"Alice's salary = N\", where N is Alice's salary. <br> \n",
    "The third line of output displays \"Bob's salary = F\", where F is Bob's salary.  <br>\n",
    "After a new line space, the following line displays \"New salaries after swapping:\"  <br>The next line displays \"Alice's salary = X\", where X is the swapped salary.  <br>\n",
    "The last line displays \"Bob's salary = Y\", where Y is the swapped salary.    \n",
    "<br><br>\n",
    "Refer to the sample output for the formatting specifications<br>\n",
    "Constraints  <br>\n",
    "1 ≤ N ≤ 10^7<br>  \n",
    "1.0 ≤ F ≤ 100000.0 <br>  \n",
    "Sample Input   \n",
    "10000 <br>15400.55  <br><br>\n",
    "Sample Output  <br>\n",
    "Initial salaries: Alice's salary = 10000<br> Bob's salary = 15400.55  <br>\n",
    "New salaries after swapping: Alice's salary = 15400.55 <br>Bob's salary = 10000**\n"
   ]
  },
  {
   "cell_type": "code",
   "execution_count": 4,
   "id": "bfe1e0b2-5a48-4128-b72c-5c7445e0012b",
   "metadata": {},
   "outputs": [
    {
     "name": "stdin",
     "output_type": "stream",
     "text": [
      "Enter Alice's salary as an integer 5000000\n",
      "Enter Bob's salary as a float 4000000\n"
     ]
    },
    {
     "name": "stdout",
     "output_type": "stream",
     "text": [
      "Initial salaries:\n",
      "Alice's salary = 5000000\n",
      "Bob's salary = 4000000.0\n",
      "\n",
      "New salaries after swapping:\n",
      "Alice's salary = 4000000.0\n",
      "Bob's salary = 5000000\n"
     ]
    }
   ],
   "source": [
    "alice_salary = int(input(\"Enter Alice's salary as an integer\"))  \n",
    "bob_salary = float(input(\"Enter Bob's salary as a float\")) \n",
    "print(\"Initial salaries:\")\n",
    "print(\"Alice's salary =\", alice_salary)\n",
    "print(\"Bob's salary =\", bob_salary)\n",
    "temp_salary = alice_salary\n",
    "alice_salary = bob_salary\n",
    "bob_salary = temp_salary\n",
    "print(\"\\nNew salaries after swapping:\")\n",
    "print(\"Alice's salary =\", alice_salary)\n",
    "print(\"Bob's salary =\", bob_salary)\n"
   ]
  },
  {
   "cell_type": "markdown",
   "id": "28063978-fbcd-4b5f-ac01-fe43aeb7759c",
   "metadata": {},
   "source": [
    "# Problem: Palindrome Checker\n",
    "**Task: Write a function in a single file that checks whether a given string is a palindrome.\n",
    "A palindrome is a word, phrase, or sequence that reads the same backward as forward (ignoring spaces, punctuation, and case).**"
   ]
  },
  {
   "cell_type": "code",
   "execution_count": 11,
   "id": "055bd2e8-fbe6-460a-825c-f90ecda2daae",
   "metadata": {},
   "outputs": [
    {
     "name": "stdout",
     "output_type": "stream",
     "text": [
      "True\n",
      "True\n",
      "False\n"
     ]
    }
   ],
   "source": [
    "import re\n",
    "def is_palindrome(s: str) -> bool:\n",
    "    # Remove non-alphanumeric characters and convert to lowercas\n",
    "    cleaned_string = re.sub(r'[^A-Za-z0-9]', '', s).lower()\n",
    "    # Check if the cleaned string is equal to its reverse\n",
    "    return cleaned_string == cleaned_string[::-1]\n",
    "print(is_palindrome(\"A man, a plan, a canal, Panama\"))  # True\n",
    "print(is_palindrome(\"racecar\"))  # True\n",
    "print(is_palindrome(\"hello\"))  # False"
   ]
  },
  {
   "cell_type": "markdown",
   "id": "d6e9f8f0-74aa-48e6-b341-12e5a8aa045c",
   "metadata": {},
   "source": [
    "# Problem: Find the Longest Substring Without Repeating Characters\n",
    "**Given a string s, find the length of the longest substring without repeating characters.<br>\n",
    "Constraints:<br>\n",
    "0 <= len(s) <= 5 * 10^4<br>\n",
    "The input string consists of English letters, digits, symbols, and spaces.**"
   ]
  },
  {
   "cell_type": "code",
   "execution_count": 13,
   "id": "2d2a00f2-36bb-4bf6-8e91-d349ad796476",
   "metadata": {},
   "outputs": [
    {
     "name": "stdout",
     "output_type": "stream",
     "text": [
      "3\n",
      "1\n",
      "3\n"
     ]
    }
   ],
   "source": [
    "def lengthOfLongestSubstring(s: str) -> int:\n",
    "    char_set = set()  # Set to store characters in the current window\n",
    "    left = 0  # Left pointer of the sliding window\n",
    "    max_length = 0  # To store the maximum length of a substring found\n",
    "    \n",
    "    # Iterate through the string with the right pointer\n",
    "    for right in range(len(s)):\n",
    "        # If the character is already in the set, move the left pointer\n",
    "        while s[right] in char_set:\n",
    "            char_set.remove(s[left])\n",
    "            left += 1\n",
    "        \n",
    "        # Add the current character to the set\n",
    "        char_set.add(s[right])\n",
    "        \n",
    "        # Update the maximum length of the substring\n",
    "        max_length = max(max_length, right - left + 1)\n",
    "    \n",
    "    return max_length\n",
    "print(lengthOfLongestSubstring(\"abcabcbb\"))  # 3\n",
    "print(lengthOfLongestSubstring(\"bbbbb\"))     # 1\n",
    "print(lengthOfLongestSubstring(\"pwwkew\"))    # 3\n"
   ]
  },
  {
   "cell_type": "code",
   "execution_count": null,
   "id": "9482991d-10b9-4ac9-800b-d5ab9acfd75e",
   "metadata": {},
   "outputs": [],
   "source": []
  }
 ],
 "metadata": {
  "kernelspec": {
   "display_name": "Python 3 (ipykernel)",
   "language": "python",
   "name": "python3"
  },
  "language_info": {
   "codemirror_mode": {
    "name": "ipython",
    "version": 3
   },
   "file_extension": ".py",
   "mimetype": "text/x-python",
   "name": "python",
   "nbconvert_exporter": "python",
   "pygments_lexer": "ipython3",
   "version": "3.12.7"
  }
 },
 "nbformat": 4,
 "nbformat_minor": 5
}
