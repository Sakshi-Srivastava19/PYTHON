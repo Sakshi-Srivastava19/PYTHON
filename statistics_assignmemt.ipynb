{
 "cells": [
  {
   "cell_type": "markdown",
   "id": "0b369fbd-c778-447b-af0f-2bdcdc0c192e",
   "metadata": {},
   "source": [
    "# Problem Statement: You work in XYZ Corporation as a Data Analyst. Your corporation has told you to work with statistics.\n",
    "**Tasks To Be Performed:**\n",
    "1. Create a table in excel, table should have 2 columns named x and y:<br>\n",
    "a. ‘x’ column should have numbers from 1-5<br>\n",
    "b. ‘y’ should have numbers 2, 4, 5, 4, 2<br>\n",
    "c. Now calculate the mean of columns x and y<br>\n",
    "d. Calculate the mode of column x<br>\n",
    "e. Calculate the standard deviation of column y<br>\n",
    "f. At last calculate the range of columns x and y separately.<br>"
   ]
  },
  {
   "cell_type": "code",
   "execution_count": 24,
   "id": "df45eb8c-d8e7-40f1-9292-da5f3ee73e94",
   "metadata": {},
   "outputs": [],
   "source": [
    "import pandas as pd\n",
    "import statistics as sts\n",
    "import numpy as np\n",
    "import warnings\n",
    "warnings.filterwarnings('ignore', category=UserWarning, module='openpyxl')\n",
    "data=pd.read_excel(r\"C:\\Users\\hp\\Desktop\\ml\\stats_assignment.xlsx\")"
   ]
  },
  {
   "cell_type": "code",
   "execution_count": 26,
   "id": "dae2a431-d9e4-445a-bc3b-e225f0b98422",
   "metadata": {},
   "outputs": [],
   "source": [
    "df=pd.DataFrame(data)"
   ]
  },
  {
   "cell_type": "code",
   "execution_count": 32,
   "id": "5ec81bb1-5839-4b2a-ad9a-f40b54be6845",
   "metadata": {},
   "outputs": [
    {
     "data": {
      "text/plain": [
       "X    3.0\n",
       "Y    3.4\n",
       "dtype: float64"
      ]
     },
     "execution_count": 32,
     "metadata": {},
     "output_type": "execute_result"
    }
   ],
   "source": [
    "a=df.mean()\n",
    "a"
   ]
  },
  {
   "cell_type": "code",
   "execution_count": 34,
   "id": "9d874baf-ff10-40b1-b721-8a59c5ff13c6",
   "metadata": {},
   "outputs": [
    {
     "data": {
      "text/plain": [
       "X    3.0\n",
       "Y    4.0\n",
       "dtype: float64"
      ]
     },
     "execution_count": 34,
     "metadata": {},
     "output_type": "execute_result"
    }
   ],
   "source": [
    "b=df.median()\n",
    "b"
   ]
  },
  {
   "cell_type": "code",
   "execution_count": 60,
   "id": "9c396249-d587-4de2-8341-b98a7dc49c61",
   "metadata": {},
   "outputs": [
    {
     "data": {
      "text/html": [
       "<div>\n",
       "<style scoped>\n",
       "    .dataframe tbody tr th:only-of-type {\n",
       "        vertical-align: middle;\n",
       "    }\n",
       "\n",
       "    .dataframe tbody tr th {\n",
       "        vertical-align: top;\n",
       "    }\n",
       "\n",
       "    .dataframe thead th {\n",
       "        text-align: right;\n",
       "    }\n",
       "</style>\n",
       "<table border=\"1\" class=\"dataframe\">\n",
       "  <thead>\n",
       "    <tr style=\"text-align: right;\">\n",
       "      <th></th>\n",
       "      <th>X</th>\n",
       "      <th>Y</th>\n",
       "    </tr>\n",
       "  </thead>\n",
       "  <tbody>\n",
       "    <tr>\n",
       "      <th>0</th>\n",
       "      <td>1</td>\n",
       "      <td>2.0</td>\n",
       "    </tr>\n",
       "    <tr>\n",
       "      <th>1</th>\n",
       "      <td>2</td>\n",
       "      <td>4.0</td>\n",
       "    </tr>\n",
       "    <tr>\n",
       "      <th>2</th>\n",
       "      <td>3</td>\n",
       "      <td>NaN</td>\n",
       "    </tr>\n",
       "    <tr>\n",
       "      <th>3</th>\n",
       "      <td>4</td>\n",
       "      <td>NaN</td>\n",
       "    </tr>\n",
       "    <tr>\n",
       "      <th>4</th>\n",
       "      <td>5</td>\n",
       "      <td>NaN</td>\n",
       "    </tr>\n",
       "  </tbody>\n",
       "</table>\n",
       "</div>"
      ],
      "text/plain": [
       "   X    Y\n",
       "0  1  2.0\n",
       "1  2  4.0\n",
       "2  3  NaN\n",
       "3  4  NaN\n",
       "4  5  NaN"
      ]
     },
     "execution_count": 60,
     "metadata": {},
     "output_type": "execute_result"
    }
   ],
   "source": [
    "c=df.mode()\n",
    "c"
   ]
  },
  {
   "cell_type": "code",
   "execution_count": 40,
   "id": "1b25fb2b-7289-45a9-afff-d0120d7d7f43",
   "metadata": {},
   "outputs": [
    {
     "name": "stdout",
     "output_type": "stream",
     "text": [
      "Mean of x: 3\n",
      "Mean of y: 3.4\n",
      "Mode of x: 1\n",
      "Standard Deviation of y: 1.3416407864998738\n",
      "Range of x: 4\n"
     ]
    }
   ],
   "source": [
    "import statistics as stats\n",
    "x = [1, 2, 3, 4, 5]\n",
    "y = [2, 4, 5, 4, 2]\n",
    "meanx = stats.mean(x)\n",
    "meany = stats.mean(y)\n",
    "\n",
    "modex = stats.mode(x)\n",
    "\n",
    "stdy = stats.stdev(y)\n",
    "rangex = max(x) - min(x)\n",
    "\n",
    "print(f\"Mean of x: {meanx}\")\n",
    "print(f\"Mean of y: {meany}\")\n",
    "print(f\"Mode of x: {modex}\")\n",
    "print(f\"Standard Deviation of y: {stdy}\")\n",
    "print(f\"Range of x: {rangex}\")\n"
   ]
  },
  {
   "cell_type": "code",
   "execution_count": null,
   "id": "93f806df-c0ab-4969-b24d-1f75c7810aaf",
   "metadata": {},
   "outputs": [],
   "source": []
  }
 ],
 "metadata": {
  "kernelspec": {
   "display_name": "Python 3 (ipykernel)",
   "language": "python",
   "name": "python3"
  },
  "language_info": {
   "codemirror_mode": {
    "name": "ipython",
    "version": 3
   },
   "file_extension": ".py",
   "mimetype": "text/x-python",
   "name": "python",
   "nbconvert_exporter": "python",
   "pygments_lexer": "ipython3",
   "version": "3.12.7"
  }
 },
 "nbformat": 4,
 "nbformat_minor": 5
}
