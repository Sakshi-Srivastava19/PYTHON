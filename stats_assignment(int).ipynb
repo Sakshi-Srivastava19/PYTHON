{
 "cells": [
  {
   "cell_type": "markdown",
   "id": "a47e3ad9-684d-4818-95b1-d4f141caae4b",
   "metadata": {},
   "source": [
    "# Problem Statement:\n",
    "**You work in XYZ Corporation as a Data Analyst. Your corporation has told you to work with statistics.<br>\n",
    "Tasks To Be Performed:<br>**\n",
    "**1. Create a table in excel, table should have 2 columns named x and y:<br>\n",
    "a. ‘x’ column should have numbers from 1-5<br>\n",
    "b. ‘y’ should have numbers 2, 4, 5, 4, 2<br>\n",
    "c. Now calculate the mean of columns x and y<br>\n",
    "d. Calculate the mode of column x<br>\n",
    "e. Calculate the standard deviation of column y<br>\n",
    "f. At last calculate the range of columns x and y separately.**"
   ]
  },
  {
   "cell_type": "code",
   "execution_count": 5,
   "id": "7e51d172-e55f-4ffe-ba1b-b199f2883931",
   "metadata": {},
   "outputs": [
    {
     "name": "stdout",
     "output_type": "stream",
     "text": [
      "Mean of x: 3.0\n",
      "Mean of y: 3.4\n",
      "Mode of x: 1\n",
      "Standard Deviation of y: 1.3416407864998738\n",
      "Range of x: 4\n",
      "Range of y: 3\n"
     ]
    }
   ],
   "source": [
    "import numpy as np\n",
    "from scipy import stats\n",
    "x = np.array([1, 2, 3, 4, 5])\n",
    "y = np.array([2, 4, 5, 4, 2])\n",
    "mean_x = np.mean(x)\n",
    "mean_y = np.mean(y)\n",
    "\n",
    "# Mode of x\n",
    "mode_x = stats.mode(x)[0]  # Mode returns a tuple, so we take the first element\n",
    "\n",
    "# Standard Deviation of y\n",
    "std_dev_y = np.std(y, ddof=1)  # ddof=1 for sample standard deviation\n",
    "\n",
    "# Range of x and y\n",
    "range_x = np.max(x) - np.min(x)\n",
    "range_y = np.max(y) - np.min(y)\n",
    "\n",
    "# Output results\n",
    "print(f\"Mean of x: {mean_x}\")\n",
    "print(f\"Mean of y: {mean_y}\")\n",
    "print(f\"Mode of x: {mode_x}\")\n",
    "print(f\"Standard Deviation of y: {std_dev_y}\")\n",
    "print(f\"Range of x: {range_x}\")\n",
    "print(f\"Range of y: {range_y}\")\n"
   ]
  },
  {
   "cell_type": "code",
   "execution_count": null,
   "id": "3f697f41-e59d-449e-bb02-8fcd511d0b98",
   "metadata": {},
   "outputs": [],
   "source": []
  }
 ],
 "metadata": {
  "kernelspec": {
   "display_name": "Python 3 (ipykernel)",
   "language": "python",
   "name": "python3"
  },
  "language_info": {
   "codemirror_mode": {
    "name": "ipython",
    "version": 3
   },
   "file_extension": ".py",
   "mimetype": "text/x-python",
   "name": "python",
   "nbconvert_exporter": "python",
   "pygments_lexer": "ipython3",
   "version": "3.12.7"
  }
 },
 "nbformat": 4,
 "nbformat_minor": 5
}
